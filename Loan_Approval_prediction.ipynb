{
  "nbformat": 4,
  "nbformat_minor": 0,
  "metadata": {
    "colab": {
      "name": "Loan_Approval_prediction.ipynb",
      "provenance": [],
      "collapsed_sections": []
    },
    "kernelspec": {
      "name": "python3",
      "display_name": "Python 3"
    }
  },
  "cells": [
    {
      "cell_type": "code",
      "metadata": {
        "colab": {
          "base_uri": "https://localhost:8080/"
        },
        "id": "0HxIRmIVmGUv",
        "outputId": "668460e2-4fcd-4eb6-b221-bbed4d3940d6"
      },
      "source": [
        "from google.colab import drive\n",
        "drive.mount('/content/gdrive')"
      ],
      "execution_count": 1,
      "outputs": [
        {
          "output_type": "stream",
          "text": [
            "Mounted at /content/gdrive\n"
          ],
          "name": "stdout"
        }
      ]
    },
    {
      "cell_type": "code",
      "metadata": {
        "id": "-uxu14KgmT65"
      },
      "source": [
        "import pandas as pd\n",
        "import numpy as np\n",
        "import seaborn as sns\n",
        "import matplotlib.pyplot as plt\n",
        "import seaborn as sns\n",
        "from sklearn.model_selection import train_test_split\n",
        "from sklearn.tree import DecisionTreeClassifier\n",
        "from sklearn.ensemble import RandomForestClassifier\n",
        "from sklearn.ensemble import GradientBoostingClassifier\n",
        "from sklearn.ensemble import AdaBoostClassifier\n",
        "import lightgbm\n",
        "from xgboost import XGBClassifier\n",
        "from sklearn.linear_model import LogisticRegression\n",
        "from sklearn.preprocessing import StandardScaler\n",
        "from sklearn.pipeline import Pipeline\n",
        "from sklearn.metrics import confusion_matrix\n",
        "from sklearn.metrics import accuracy_score\n",
        "from sklearn.metrics import classification_report\n",
        "from sklearn.model_selection import GridSearchCV\n",
        "from sklearn import metrics"
      ],
      "execution_count": 2,
      "outputs": []
    },
    {
      "cell_type": "code",
      "metadata": {
        "id": "L8ZuTlFZmkVt"
      },
      "source": [
        "df=pd.read_csv('/content/gdrive/My Drive/credit.csv')"
      ],
      "execution_count": 3,
      "outputs": []
    },
    {
      "cell_type": "code",
      "metadata": {
        "colab": {
          "base_uri": "https://localhost:8080/",
          "height": 316
        },
        "id": "w9WzANSamrbN",
        "outputId": "0434a871-6234-46c2-c560-a5859a8c13e2"
      },
      "source": [
        "df.head()"
      ],
      "execution_count": 4,
      "outputs": [
        {
          "output_type": "execute_result",
          "data": {
            "text/html": [
              "<div>\n",
              "<style scoped>\n",
              "    .dataframe tbody tr th:only-of-type {\n",
              "        vertical-align: middle;\n",
              "    }\n",
              "\n",
              "    .dataframe tbody tr th {\n",
              "        vertical-align: top;\n",
              "    }\n",
              "\n",
              "    .dataframe thead th {\n",
              "        text-align: right;\n",
              "    }\n",
              "</style>\n",
              "<table border=\"1\" class=\"dataframe\">\n",
              "  <thead>\n",
              "    <tr style=\"text-align: right;\">\n",
              "      <th></th>\n",
              "      <th>checking_balance</th>\n",
              "      <th>months_loan_duration</th>\n",
              "      <th>credit_history</th>\n",
              "      <th>purpose</th>\n",
              "      <th>amount</th>\n",
              "      <th>savings_balance</th>\n",
              "      <th>employment_length</th>\n",
              "      <th>installment_rate</th>\n",
              "      <th>personal_status</th>\n",
              "      <th>other_debtors</th>\n",
              "      <th>residence_history</th>\n",
              "      <th>property</th>\n",
              "      <th>age</th>\n",
              "      <th>installment_plan</th>\n",
              "      <th>housing</th>\n",
              "      <th>existing_credits</th>\n",
              "      <th>default</th>\n",
              "      <th>dependents</th>\n",
              "      <th>telephone</th>\n",
              "      <th>foreign_worker</th>\n",
              "      <th>job</th>\n",
              "    </tr>\n",
              "  </thead>\n",
              "  <tbody>\n",
              "    <tr>\n",
              "      <th>0</th>\n",
              "      <td>&lt; 0 DM</td>\n",
              "      <td>6</td>\n",
              "      <td>critical</td>\n",
              "      <td>radio/tv</td>\n",
              "      <td>1169</td>\n",
              "      <td>unknown</td>\n",
              "      <td>&gt; 7 yrs</td>\n",
              "      <td>4</td>\n",
              "      <td>single male</td>\n",
              "      <td>none</td>\n",
              "      <td>4</td>\n",
              "      <td>real estate</td>\n",
              "      <td>67</td>\n",
              "      <td>none</td>\n",
              "      <td>own</td>\n",
              "      <td>2</td>\n",
              "      <td>1</td>\n",
              "      <td>1</td>\n",
              "      <td>yes</td>\n",
              "      <td>yes</td>\n",
              "      <td>skilled employee</td>\n",
              "    </tr>\n",
              "    <tr>\n",
              "      <th>1</th>\n",
              "      <td>1 - 200 DM</td>\n",
              "      <td>48</td>\n",
              "      <td>repaid</td>\n",
              "      <td>radio/tv</td>\n",
              "      <td>5951</td>\n",
              "      <td>&lt; 100 DM</td>\n",
              "      <td>1 - 4 yrs</td>\n",
              "      <td>2</td>\n",
              "      <td>female</td>\n",
              "      <td>none</td>\n",
              "      <td>2</td>\n",
              "      <td>real estate</td>\n",
              "      <td>22</td>\n",
              "      <td>none</td>\n",
              "      <td>own</td>\n",
              "      <td>1</td>\n",
              "      <td>2</td>\n",
              "      <td>1</td>\n",
              "      <td>none</td>\n",
              "      <td>yes</td>\n",
              "      <td>skilled employee</td>\n",
              "    </tr>\n",
              "    <tr>\n",
              "      <th>2</th>\n",
              "      <td>unknown</td>\n",
              "      <td>12</td>\n",
              "      <td>critical</td>\n",
              "      <td>education</td>\n",
              "      <td>2096</td>\n",
              "      <td>&lt; 100 DM</td>\n",
              "      <td>4 - 7 yrs</td>\n",
              "      <td>2</td>\n",
              "      <td>single male</td>\n",
              "      <td>none</td>\n",
              "      <td>3</td>\n",
              "      <td>real estate</td>\n",
              "      <td>49</td>\n",
              "      <td>none</td>\n",
              "      <td>own</td>\n",
              "      <td>1</td>\n",
              "      <td>1</td>\n",
              "      <td>2</td>\n",
              "      <td>none</td>\n",
              "      <td>yes</td>\n",
              "      <td>unskilled resident</td>\n",
              "    </tr>\n",
              "    <tr>\n",
              "      <th>3</th>\n",
              "      <td>&lt; 0 DM</td>\n",
              "      <td>42</td>\n",
              "      <td>repaid</td>\n",
              "      <td>furniture</td>\n",
              "      <td>7882</td>\n",
              "      <td>&lt; 100 DM</td>\n",
              "      <td>4 - 7 yrs</td>\n",
              "      <td>2</td>\n",
              "      <td>single male</td>\n",
              "      <td>guarantor</td>\n",
              "      <td>4</td>\n",
              "      <td>building society savings</td>\n",
              "      <td>45</td>\n",
              "      <td>none</td>\n",
              "      <td>for free</td>\n",
              "      <td>1</td>\n",
              "      <td>1</td>\n",
              "      <td>2</td>\n",
              "      <td>none</td>\n",
              "      <td>yes</td>\n",
              "      <td>skilled employee</td>\n",
              "    </tr>\n",
              "    <tr>\n",
              "      <th>4</th>\n",
              "      <td>&lt; 0 DM</td>\n",
              "      <td>24</td>\n",
              "      <td>delayed</td>\n",
              "      <td>car (new)</td>\n",
              "      <td>4870</td>\n",
              "      <td>&lt; 100 DM</td>\n",
              "      <td>1 - 4 yrs</td>\n",
              "      <td>3</td>\n",
              "      <td>single male</td>\n",
              "      <td>none</td>\n",
              "      <td>4</td>\n",
              "      <td>unknown/none</td>\n",
              "      <td>53</td>\n",
              "      <td>none</td>\n",
              "      <td>for free</td>\n",
              "      <td>2</td>\n",
              "      <td>2</td>\n",
              "      <td>2</td>\n",
              "      <td>none</td>\n",
              "      <td>yes</td>\n",
              "      <td>skilled employee</td>\n",
              "    </tr>\n",
              "  </tbody>\n",
              "</table>\n",
              "</div>"
            ],
            "text/plain": [
              "  checking_balance  months_loan_duration  ... foreign_worker                 job\n",
              "0           < 0 DM                     6  ...            yes    skilled employee\n",
              "1       1 - 200 DM                    48  ...            yes    skilled employee\n",
              "2          unknown                    12  ...            yes  unskilled resident\n",
              "3           < 0 DM                    42  ...            yes    skilled employee\n",
              "4           < 0 DM                    24  ...            yes    skilled employee\n",
              "\n",
              "[5 rows x 21 columns]"
            ]
          },
          "metadata": {
            "tags": []
          },
          "execution_count": 4
        }
      ]
    },
    {
      "cell_type": "code",
      "metadata": {
        "colab": {
          "base_uri": "https://localhost:8080/"
        },
        "id": "LlefzZpo1EZR",
        "outputId": "6f5c3961-c73d-4451-8d63-c267155a3629"
      },
      "source": [
        "df.shape"
      ],
      "execution_count": 73,
      "outputs": [
        {
          "output_type": "execute_result",
          "data": {
            "text/plain": [
              "(1000, 12)"
            ]
          },
          "metadata": {
            "tags": []
          },
          "execution_count": 73
        }
      ]
    },
    {
      "cell_type": "code",
      "metadata": {
        "colab": {
          "base_uri": "https://localhost:8080/"
        },
        "id": "NtsFDrsomuty",
        "outputId": "b3e70b06-1ba4-41d6-bf54-2597ce1fbd7f"
      },
      "source": [
        "df.info()"
      ],
      "execution_count": 5,
      "outputs": [
        {
          "output_type": "stream",
          "text": [
            "<class 'pandas.core.frame.DataFrame'>\n",
            "RangeIndex: 1000 entries, 0 to 999\n",
            "Data columns (total 21 columns):\n",
            " #   Column                Non-Null Count  Dtype \n",
            "---  ------                --------------  ----- \n",
            " 0   checking_balance      1000 non-null   object\n",
            " 1   months_loan_duration  1000 non-null   int64 \n",
            " 2   credit_history        1000 non-null   object\n",
            " 3   purpose               1000 non-null   object\n",
            " 4   amount                1000 non-null   int64 \n",
            " 5   savings_balance       1000 non-null   object\n",
            " 6   employment_length     1000 non-null   object\n",
            " 7   installment_rate      1000 non-null   int64 \n",
            " 8   personal_status       1000 non-null   object\n",
            " 9   other_debtors         1000 non-null   object\n",
            " 10  residence_history     1000 non-null   int64 \n",
            " 11  property              1000 non-null   object\n",
            " 12  age                   1000 non-null   int64 \n",
            " 13  installment_plan      1000 non-null   object\n",
            " 14  housing               1000 non-null   object\n",
            " 15  existing_credits      1000 non-null   int64 \n",
            " 16  default               1000 non-null   int64 \n",
            " 17  dependents            1000 non-null   int64 \n",
            " 18  telephone             1000 non-null   object\n",
            " 19  foreign_worker        1000 non-null   object\n",
            " 20  job                   1000 non-null   object\n",
            "dtypes: int64(8), object(13)\n",
            "memory usage: 164.2+ KB\n"
          ],
          "name": "stdout"
        }
      ]
    },
    {
      "cell_type": "code",
      "metadata": {
        "colab": {
          "base_uri": "https://localhost:8080/",
          "height": 284
        },
        "id": "7Ch0PReEmv0-",
        "outputId": "3581da45-90f0-48ff-91a4-6fcc932ee541"
      },
      "source": [
        "df.describe()"
      ],
      "execution_count": 6,
      "outputs": [
        {
          "output_type": "execute_result",
          "data": {
            "text/html": [
              "<div>\n",
              "<style scoped>\n",
              "    .dataframe tbody tr th:only-of-type {\n",
              "        vertical-align: middle;\n",
              "    }\n",
              "\n",
              "    .dataframe tbody tr th {\n",
              "        vertical-align: top;\n",
              "    }\n",
              "\n",
              "    .dataframe thead th {\n",
              "        text-align: right;\n",
              "    }\n",
              "</style>\n",
              "<table border=\"1\" class=\"dataframe\">\n",
              "  <thead>\n",
              "    <tr style=\"text-align: right;\">\n",
              "      <th></th>\n",
              "      <th>months_loan_duration</th>\n",
              "      <th>amount</th>\n",
              "      <th>installment_rate</th>\n",
              "      <th>residence_history</th>\n",
              "      <th>age</th>\n",
              "      <th>existing_credits</th>\n",
              "      <th>default</th>\n",
              "      <th>dependents</th>\n",
              "    </tr>\n",
              "  </thead>\n",
              "  <tbody>\n",
              "    <tr>\n",
              "      <th>count</th>\n",
              "      <td>1000.000000</td>\n",
              "      <td>1000.000000</td>\n",
              "      <td>1000.000000</td>\n",
              "      <td>1000.000000</td>\n",
              "      <td>1000.000000</td>\n",
              "      <td>1000.000000</td>\n",
              "      <td>1000.000000</td>\n",
              "      <td>1000.000000</td>\n",
              "    </tr>\n",
              "    <tr>\n",
              "      <th>mean</th>\n",
              "      <td>20.903000</td>\n",
              "      <td>3271.258000</td>\n",
              "      <td>2.973000</td>\n",
              "      <td>2.845000</td>\n",
              "      <td>35.546000</td>\n",
              "      <td>1.407000</td>\n",
              "      <td>1.300000</td>\n",
              "      <td>1.155000</td>\n",
              "    </tr>\n",
              "    <tr>\n",
              "      <th>std</th>\n",
              "      <td>12.058814</td>\n",
              "      <td>2822.736876</td>\n",
              "      <td>1.118715</td>\n",
              "      <td>1.103718</td>\n",
              "      <td>11.375469</td>\n",
              "      <td>0.577654</td>\n",
              "      <td>0.458487</td>\n",
              "      <td>0.362086</td>\n",
              "    </tr>\n",
              "    <tr>\n",
              "      <th>min</th>\n",
              "      <td>4.000000</td>\n",
              "      <td>250.000000</td>\n",
              "      <td>1.000000</td>\n",
              "      <td>1.000000</td>\n",
              "      <td>19.000000</td>\n",
              "      <td>1.000000</td>\n",
              "      <td>1.000000</td>\n",
              "      <td>1.000000</td>\n",
              "    </tr>\n",
              "    <tr>\n",
              "      <th>25%</th>\n",
              "      <td>12.000000</td>\n",
              "      <td>1365.500000</td>\n",
              "      <td>2.000000</td>\n",
              "      <td>2.000000</td>\n",
              "      <td>27.000000</td>\n",
              "      <td>1.000000</td>\n",
              "      <td>1.000000</td>\n",
              "      <td>1.000000</td>\n",
              "    </tr>\n",
              "    <tr>\n",
              "      <th>50%</th>\n",
              "      <td>18.000000</td>\n",
              "      <td>2319.500000</td>\n",
              "      <td>3.000000</td>\n",
              "      <td>3.000000</td>\n",
              "      <td>33.000000</td>\n",
              "      <td>1.000000</td>\n",
              "      <td>1.000000</td>\n",
              "      <td>1.000000</td>\n",
              "    </tr>\n",
              "    <tr>\n",
              "      <th>75%</th>\n",
              "      <td>24.000000</td>\n",
              "      <td>3972.250000</td>\n",
              "      <td>4.000000</td>\n",
              "      <td>4.000000</td>\n",
              "      <td>42.000000</td>\n",
              "      <td>2.000000</td>\n",
              "      <td>2.000000</td>\n",
              "      <td>1.000000</td>\n",
              "    </tr>\n",
              "    <tr>\n",
              "      <th>max</th>\n",
              "      <td>72.000000</td>\n",
              "      <td>18424.000000</td>\n",
              "      <td>4.000000</td>\n",
              "      <td>4.000000</td>\n",
              "      <td>75.000000</td>\n",
              "      <td>4.000000</td>\n",
              "      <td>2.000000</td>\n",
              "      <td>2.000000</td>\n",
              "    </tr>\n",
              "  </tbody>\n",
              "</table>\n",
              "</div>"
            ],
            "text/plain": [
              "       months_loan_duration        amount  ...      default   dependents\n",
              "count           1000.000000   1000.000000  ...  1000.000000  1000.000000\n",
              "mean              20.903000   3271.258000  ...     1.300000     1.155000\n",
              "std               12.058814   2822.736876  ...     0.458487     0.362086\n",
              "min                4.000000    250.000000  ...     1.000000     1.000000\n",
              "25%               12.000000   1365.500000  ...     1.000000     1.000000\n",
              "50%               18.000000   2319.500000  ...     1.000000     1.000000\n",
              "75%               24.000000   3972.250000  ...     2.000000     1.000000\n",
              "max               72.000000  18424.000000  ...     2.000000     2.000000\n",
              "\n",
              "[8 rows x 8 columns]"
            ]
          },
          "metadata": {
            "tags": []
          },
          "execution_count": 6
        }
      ]
    },
    {
      "cell_type": "code",
      "metadata": {
        "id": "xElzHui3mxSf"
      },
      "source": [
        "df['savings_balance'] = df['savings_balance'].map({\"< 100 DM\":1 ,\"101 - 500 DM\":2,\"501 - 1000 DM\":3, \"> 1000 DM\":4 });\n",
        "df['savings_balance'] = df['savings_balance'].fillna(df['savings_balance'].dropna().mean())"
      ],
      "execution_count": 7,
      "outputs": []
    },
    {
      "cell_type": "code",
      "metadata": {
        "id": "46RoaI-bm12o"
      },
      "source": [
        "df['checking_balance'] = df['checking_balance'].map({\"< 0 DM\":1 , \"1 - 200 DM\":2 , \"> 200 DM\":3});\n",
        "df['checking_balance'] = df['checking_balance'].fillna(df['checking_balance'].dropna().mean())"
      ],
      "execution_count": 8,
      "outputs": []
    },
    {
      "cell_type": "code",
      "metadata": {
        "id": "jySgs7o5m4Yt"
      },
      "source": [
        "df['credit_history'] = df['credit_history'].map({\"critical\":1 , \"repaid\":2 , \"delayed\":3, \"fully repaid\":4, \"fully repaid this bank\":5});\n",
        "df['credit_history'] = df['credit_history'].fillna(df['credit_history'].dropna().mean())"
      ],
      "execution_count": 9,
      "outputs": []
    },
    {
      "cell_type": "code",
      "metadata": {
        "id": "oRemPOgBm67U"
      },
      "source": [
        "df['purpose'] = df['purpose'].map({\"radio/tv\":1 , \"education\":2 , \"furniture\":3, \"car (new)\":4, \"car (used)\":5,\"business\":6 , \"domestic appliances\":7 , \"repairs\":8, \"others\":9, \"retraining\":10});\n",
        "df['purpose'] = df['purpose'].fillna(df['purpose'].dropna().mean())"
      ],
      "execution_count": 10,
      "outputs": []
    },
    {
      "cell_type": "code",
      "metadata": {
        "id": "3HluoxZwm9WL"
      },
      "source": [
        "df['personal_status'] = df['personal_status'].map({\"single male\":1 , \"female\":2 , \"divorced male\":3, \"married male\":4});\n",
        "df['personal_status'] = df['personal_status'].fillna(df['personal_status'].dropna().mean())"
      ],
      "execution_count": 11,
      "outputs": []
    },
    {
      "cell_type": "code",
      "metadata": {
        "id": "IjqrXAVynBTy"
      },
      "source": [
        "df['job'] = df['job'].map({\"skilled employee\":1 , \"unskilled resident\":2 , \"mangement self-employed\":3, \"unemployed non-resident\":4});\n",
        "df['job'] = df['job'].fillna(df['job'].dropna().mean())"
      ],
      "execution_count": 12,
      "outputs": []
    },
    {
      "cell_type": "code",
      "metadata": {
        "colab": {
          "base_uri": "https://localhost:8080/",
          "height": 430
        },
        "id": "DID6SuoPnDtr",
        "outputId": "37898e90-0f28-4159-b2b1-6eef267707ed"
      },
      "source": [
        "df.head(10)"
      ],
      "execution_count": 13,
      "outputs": [
        {
          "output_type": "execute_result",
          "data": {
            "text/html": [
              "<div>\n",
              "<style scoped>\n",
              "    .dataframe tbody tr th:only-of-type {\n",
              "        vertical-align: middle;\n",
              "    }\n",
              "\n",
              "    .dataframe tbody tr th {\n",
              "        vertical-align: top;\n",
              "    }\n",
              "\n",
              "    .dataframe thead th {\n",
              "        text-align: right;\n",
              "    }\n",
              "</style>\n",
              "<table border=\"1\" class=\"dataframe\">\n",
              "  <thead>\n",
              "    <tr style=\"text-align: right;\">\n",
              "      <th></th>\n",
              "      <th>checking_balance</th>\n",
              "      <th>months_loan_duration</th>\n",
              "      <th>credit_history</th>\n",
              "      <th>purpose</th>\n",
              "      <th>amount</th>\n",
              "      <th>savings_balance</th>\n",
              "      <th>employment_length</th>\n",
              "      <th>installment_rate</th>\n",
              "      <th>personal_status</th>\n",
              "      <th>other_debtors</th>\n",
              "      <th>residence_history</th>\n",
              "      <th>property</th>\n",
              "      <th>age</th>\n",
              "      <th>installment_plan</th>\n",
              "      <th>housing</th>\n",
              "      <th>existing_credits</th>\n",
              "      <th>default</th>\n",
              "      <th>dependents</th>\n",
              "      <th>telephone</th>\n",
              "      <th>foreign_worker</th>\n",
              "      <th>job</th>\n",
              "    </tr>\n",
              "  </thead>\n",
              "  <tbody>\n",
              "    <tr>\n",
              "      <th>0</th>\n",
              "      <td>1.000000</td>\n",
              "      <td>6</td>\n",
              "      <td>1</td>\n",
              "      <td>1</td>\n",
              "      <td>1169</td>\n",
              "      <td>1.456548</td>\n",
              "      <td>&gt; 7 yrs</td>\n",
              "      <td>4</td>\n",
              "      <td>1</td>\n",
              "      <td>none</td>\n",
              "      <td>4</td>\n",
              "      <td>real estate</td>\n",
              "      <td>67</td>\n",
              "      <td>none</td>\n",
              "      <td>own</td>\n",
              "      <td>2</td>\n",
              "      <td>1</td>\n",
              "      <td>1</td>\n",
              "      <td>yes</td>\n",
              "      <td>yes</td>\n",
              "      <td>1</td>\n",
              "    </tr>\n",
              "    <tr>\n",
              "      <th>1</th>\n",
              "      <td>2.000000</td>\n",
              "      <td>48</td>\n",
              "      <td>2</td>\n",
              "      <td>1</td>\n",
              "      <td>5951</td>\n",
              "      <td>1.000000</td>\n",
              "      <td>1 - 4 yrs</td>\n",
              "      <td>2</td>\n",
              "      <td>2</td>\n",
              "      <td>none</td>\n",
              "      <td>2</td>\n",
              "      <td>real estate</td>\n",
              "      <td>22</td>\n",
              "      <td>none</td>\n",
              "      <td>own</td>\n",
              "      <td>1</td>\n",
              "      <td>2</td>\n",
              "      <td>1</td>\n",
              "      <td>none</td>\n",
              "      <td>yes</td>\n",
              "      <td>1</td>\n",
              "    </tr>\n",
              "    <tr>\n",
              "      <th>2</th>\n",
              "      <td>1.651815</td>\n",
              "      <td>12</td>\n",
              "      <td>1</td>\n",
              "      <td>2</td>\n",
              "      <td>2096</td>\n",
              "      <td>1.000000</td>\n",
              "      <td>4 - 7 yrs</td>\n",
              "      <td>2</td>\n",
              "      <td>1</td>\n",
              "      <td>none</td>\n",
              "      <td>3</td>\n",
              "      <td>real estate</td>\n",
              "      <td>49</td>\n",
              "      <td>none</td>\n",
              "      <td>own</td>\n",
              "      <td>1</td>\n",
              "      <td>1</td>\n",
              "      <td>2</td>\n",
              "      <td>none</td>\n",
              "      <td>yes</td>\n",
              "      <td>2</td>\n",
              "    </tr>\n",
              "    <tr>\n",
              "      <th>3</th>\n",
              "      <td>1.000000</td>\n",
              "      <td>42</td>\n",
              "      <td>2</td>\n",
              "      <td>3</td>\n",
              "      <td>7882</td>\n",
              "      <td>1.000000</td>\n",
              "      <td>4 - 7 yrs</td>\n",
              "      <td>2</td>\n",
              "      <td>1</td>\n",
              "      <td>guarantor</td>\n",
              "      <td>4</td>\n",
              "      <td>building society savings</td>\n",
              "      <td>45</td>\n",
              "      <td>none</td>\n",
              "      <td>for free</td>\n",
              "      <td>1</td>\n",
              "      <td>1</td>\n",
              "      <td>2</td>\n",
              "      <td>none</td>\n",
              "      <td>yes</td>\n",
              "      <td>1</td>\n",
              "    </tr>\n",
              "    <tr>\n",
              "      <th>4</th>\n",
              "      <td>1.000000</td>\n",
              "      <td>24</td>\n",
              "      <td>3</td>\n",
              "      <td>4</td>\n",
              "      <td>4870</td>\n",
              "      <td>1.000000</td>\n",
              "      <td>1 - 4 yrs</td>\n",
              "      <td>3</td>\n",
              "      <td>1</td>\n",
              "      <td>none</td>\n",
              "      <td>4</td>\n",
              "      <td>unknown/none</td>\n",
              "      <td>53</td>\n",
              "      <td>none</td>\n",
              "      <td>for free</td>\n",
              "      <td>2</td>\n",
              "      <td>2</td>\n",
              "      <td>2</td>\n",
              "      <td>none</td>\n",
              "      <td>yes</td>\n",
              "      <td>1</td>\n",
              "    </tr>\n",
              "    <tr>\n",
              "      <th>5</th>\n",
              "      <td>1.651815</td>\n",
              "      <td>36</td>\n",
              "      <td>2</td>\n",
              "      <td>2</td>\n",
              "      <td>9055</td>\n",
              "      <td>1.456548</td>\n",
              "      <td>1 - 4 yrs</td>\n",
              "      <td>2</td>\n",
              "      <td>1</td>\n",
              "      <td>none</td>\n",
              "      <td>4</td>\n",
              "      <td>unknown/none</td>\n",
              "      <td>35</td>\n",
              "      <td>none</td>\n",
              "      <td>for free</td>\n",
              "      <td>1</td>\n",
              "      <td>1</td>\n",
              "      <td>2</td>\n",
              "      <td>yes</td>\n",
              "      <td>yes</td>\n",
              "      <td>2</td>\n",
              "    </tr>\n",
              "    <tr>\n",
              "      <th>6</th>\n",
              "      <td>1.651815</td>\n",
              "      <td>24</td>\n",
              "      <td>2</td>\n",
              "      <td>3</td>\n",
              "      <td>2835</td>\n",
              "      <td>3.000000</td>\n",
              "      <td>&gt; 7 yrs</td>\n",
              "      <td>3</td>\n",
              "      <td>1</td>\n",
              "      <td>none</td>\n",
              "      <td>4</td>\n",
              "      <td>building society savings</td>\n",
              "      <td>53</td>\n",
              "      <td>none</td>\n",
              "      <td>own</td>\n",
              "      <td>1</td>\n",
              "      <td>1</td>\n",
              "      <td>1</td>\n",
              "      <td>none</td>\n",
              "      <td>yes</td>\n",
              "      <td>1</td>\n",
              "    </tr>\n",
              "    <tr>\n",
              "      <th>7</th>\n",
              "      <td>2.000000</td>\n",
              "      <td>36</td>\n",
              "      <td>2</td>\n",
              "      <td>5</td>\n",
              "      <td>6948</td>\n",
              "      <td>1.000000</td>\n",
              "      <td>1 - 4 yrs</td>\n",
              "      <td>2</td>\n",
              "      <td>1</td>\n",
              "      <td>none</td>\n",
              "      <td>2</td>\n",
              "      <td>other</td>\n",
              "      <td>35</td>\n",
              "      <td>none</td>\n",
              "      <td>rent</td>\n",
              "      <td>1</td>\n",
              "      <td>1</td>\n",
              "      <td>1</td>\n",
              "      <td>yes</td>\n",
              "      <td>yes</td>\n",
              "      <td>3</td>\n",
              "    </tr>\n",
              "    <tr>\n",
              "      <th>8</th>\n",
              "      <td>1.651815</td>\n",
              "      <td>12</td>\n",
              "      <td>2</td>\n",
              "      <td>1</td>\n",
              "      <td>3059</td>\n",
              "      <td>4.000000</td>\n",
              "      <td>4 - 7 yrs</td>\n",
              "      <td>2</td>\n",
              "      <td>3</td>\n",
              "      <td>none</td>\n",
              "      <td>4</td>\n",
              "      <td>real estate</td>\n",
              "      <td>61</td>\n",
              "      <td>none</td>\n",
              "      <td>own</td>\n",
              "      <td>1</td>\n",
              "      <td>1</td>\n",
              "      <td>1</td>\n",
              "      <td>none</td>\n",
              "      <td>yes</td>\n",
              "      <td>2</td>\n",
              "    </tr>\n",
              "    <tr>\n",
              "      <th>9</th>\n",
              "      <td>2.000000</td>\n",
              "      <td>30</td>\n",
              "      <td>1</td>\n",
              "      <td>4</td>\n",
              "      <td>5234</td>\n",
              "      <td>1.000000</td>\n",
              "      <td>unemployed</td>\n",
              "      <td>4</td>\n",
              "      <td>4</td>\n",
              "      <td>none</td>\n",
              "      <td>2</td>\n",
              "      <td>other</td>\n",
              "      <td>28</td>\n",
              "      <td>none</td>\n",
              "      <td>own</td>\n",
              "      <td>2</td>\n",
              "      <td>2</td>\n",
              "      <td>1</td>\n",
              "      <td>none</td>\n",
              "      <td>yes</td>\n",
              "      <td>3</td>\n",
              "    </tr>\n",
              "  </tbody>\n",
              "</table>\n",
              "</div>"
            ],
            "text/plain": [
              "   checking_balance  months_loan_duration  ...  foreign_worker  job\n",
              "0          1.000000                     6  ...             yes    1\n",
              "1          2.000000                    48  ...             yes    1\n",
              "2          1.651815                    12  ...             yes    2\n",
              "3          1.000000                    42  ...             yes    1\n",
              "4          1.000000                    24  ...             yes    1\n",
              "5          1.651815                    36  ...             yes    2\n",
              "6          1.651815                    24  ...             yes    1\n",
              "7          2.000000                    36  ...             yes    3\n",
              "8          1.651815                    12  ...             yes    2\n",
              "9          2.000000                    30  ...             yes    3\n",
              "\n",
              "[10 rows x 21 columns]"
            ]
          },
          "metadata": {
            "tags": []
          },
          "execution_count": 13
        }
      ]
    },
    {
      "cell_type": "code",
      "metadata": {
        "colab": {
          "base_uri": "https://localhost:8080/"
        },
        "id": "v86OsR1mnF6Z",
        "outputId": "3114614e-ebeb-4ba8-d0f6-f2164e6de726"
      },
      "source": [
        "print(\"Purpose : \",df.purpose.unique())\n",
        "print(\"Sex : \",df.personal_status.unique())\n",
        "print(\"Housing : \",df.housing.unique())\n",
        "print(\"Saving accounts : \",df['savings_balance'].unique())\n",
        "print(\"Credit Status : \", df['credit_history'].unique())\n",
        "print(\"Job : \", df['job'].unique())\n",
        "print(\"checking Balance : \", df['checking_balance'].unique())\n",
        "print(\"employment_length : \", df['employment_length'].unique())\n",
        "print(\"personal_status : \", df['personal_status'].unique())"
      ],
      "execution_count": 14,
      "outputs": [
        {
          "output_type": "stream",
          "text": [
            "Purpose :  [ 1  2  3  4  5  6  7  8  9 10]\n",
            "Sex :  [1 2 3 4]\n",
            "Housing :  ['own' 'for free' 'rent']\n",
            "Saving accounts :  [1.45654835 1.         3.         4.         2.        ]\n",
            "Credit Status :  [1 2 3 4 5]\n",
            "Job :  [1 2 3 4]\n",
            "checking Balance :  [1.         2.         1.65181518 3.        ]\n",
            "employment_length :  ['> 7 yrs' '1 - 4 yrs' '4 - 7 yrs' 'unemployed' '0 - 1 yrs']\n",
            "personal_status :  [1 2 3 4]\n"
          ],
          "name": "stdout"
        }
      ]
    },
    {
      "cell_type": "code",
      "metadata": {
        "colab": {
          "base_uri": "https://localhost:8080/"
        },
        "id": "pmlhyxM6nIHt",
        "outputId": "2ff9bdc0-ee7d-4ef0-977f-1a3949125871"
      },
      "source": [
        "df.isna().sum()"
      ],
      "execution_count": 15,
      "outputs": [
        {
          "output_type": "execute_result",
          "data": {
            "text/plain": [
              "checking_balance        0\n",
              "months_loan_duration    0\n",
              "credit_history          0\n",
              "purpose                 0\n",
              "amount                  0\n",
              "savings_balance         0\n",
              "employment_length       0\n",
              "installment_rate        0\n",
              "personal_status         0\n",
              "other_debtors           0\n",
              "residence_history       0\n",
              "property                0\n",
              "age                     0\n",
              "installment_plan        0\n",
              "housing                 0\n",
              "existing_credits        0\n",
              "default                 0\n",
              "dependents              0\n",
              "telephone               0\n",
              "foreign_worker          0\n",
              "job                     0\n",
              "dtype: int64"
            ]
          },
          "metadata": {
            "tags": []
          },
          "execution_count": 15
        }
      ]
    },
    {
      "cell_type": "code",
      "metadata": {
        "colab": {
          "base_uri": "https://localhost:8080/",
          "height": 298
        },
        "id": "Oigj0IXMnKqA",
        "outputId": "3e632f6c-705f-4440-b15f-84fe72a3f812"
      },
      "source": [
        "plt.scatter(df['amount'],df[\"age\"])\n",
        "plt.figure()"
      ],
      "execution_count": 16,
      "outputs": [
        {
          "output_type": "execute_result",
          "data": {
            "text/plain": [
              "<Figure size 432x288 with 0 Axes>"
            ]
          },
          "metadata": {
            "tags": []
          },
          "execution_count": 16
        },
        {
          "output_type": "display_data",
          "data": {
            "image/png": "[encoded data removed]",
            "text/plain": [
              "<Figure size 432x288 with 1 Axes>"
            ]
          },
          "metadata": {
            "tags": [],
            "needs_background": "light"
          }
        },
        {
          "output_type": "display_data",
          "data": {
            "text/plain": [
              "<Figure size 432x288 with 0 Axes>"
            ]
          },
          "metadata": {
            "tags": []
          }
        }
      ]
    },
    {
      "cell_type": "code",
      "metadata": {
        "colab": {
          "base_uri": "https://localhost:8080/",
          "height": 298
        },
        "id": "wqqXrcbfnMYK",
        "outputId": "54771573-33c0-4a5d-e725-936b2a82650b"
      },
      "source": [
        "plt.scatter(df['credit_history'],df[\"months_loan_duration\"])\n",
        "plt.figure()"
      ],
      "execution_count": 17,
      "outputs": [
        {
          "output_type": "execute_result",
          "data": {
            "text/plain": [
              "<Figure size 432x288 with 0 Axes>"
            ]
          },
          "metadata": {
            "tags": []
          },
          "execution_count": 17
        },
        {
          "output_type": "display_data",
          "data": {
            "image/png": "[encoded data removed]",
            "text/plain": [
              "<Figure size 432x288 with 1 Axes>"
            ]
          },
          "metadata": {
            "tags": [],
            "needs_background": "light"
          }
        },
        {
          "output_type": "display_data",
          "data": {
            "text/plain": [
              "<Figure size 432x288 with 0 Axes>"
            ]
          },
          "metadata": {
            "tags": []
          }
        }
      ]
    },
    {
      "cell_type": "code",
      "metadata": {
        "colab": {
          "base_uri": "https://localhost:8080/",
          "height": 265
        },
        "id": "9qqHTpusnOXp",
        "outputId": "18387929-cc81-4d33-f4e0-954910ec45b1"
      },
      "source": [
        "fig = df[\"purpose\"].hist(bins=8)"
      ],
      "execution_count": 18,
      "outputs": [
        {
          "output_type": "display_data",
          "data": {
            "image/png": "[encoded data removed]",
            "text/plain": [
              "<Figure size 432x288 with 1 Axes>"
            ]
          },
          "metadata": {
            "tags": [],
            "needs_background": "light"
          }
        }
      ]
    },
    {
      "cell_type": "code",
      "metadata": {
        "colab": {
          "base_uri": "https://localhost:8080/",
          "height": 265
        },
        "id": "zoRuJTednRVq",
        "outputId": "6393e251-1789-4d2a-9f5d-2a5e9f2b00cf"
      },
      "source": [
        "limitedCredit = df[(df[\"amount\"]<=5000)==True];\n",
        "imitedCredit = df[(df[\"amount\"]>2000)==True];\n",
        "fig = limitedCredit[\"purpose\"].hist(bins=8)"
      ],
      "execution_count": 19,
      "outputs": [
        {
          "output_type": "display_data",
          "data": {
            "image/png": "[encoded data removed]",
            "text/plain": [
              "<Figure size 432x288 with 1 Axes>"
            ]
          },
          "metadata": {
            "tags": [],
            "needs_background": "light"
          }
        }
      ]
    },
    {
      "cell_type": "code",
      "metadata": {
        "colab": {
          "base_uri": "https://localhost:8080/",
          "height": 308
        },
        "id": "ZyeDICBdnUXW",
        "outputId": "99c2bf7f-941f-494d-841f-cc3ae8f206a1"
      },
      "source": [
        "fig = df.age.hist(bins=60)\n",
        "fig.text(40, -10, 'Age', ha='center')\n",
        "fig.text(0, 40, 'Frequency', ha='center')"
      ],
      "execution_count": 20,
      "outputs": [
        {
          "output_type": "execute_result",
          "data": {
            "text/plain": [
              "Text(0, 40, 'Frequency')"
            ]
          },
          "metadata": {
            "tags": []
          },
          "execution_count": 20
        },
        {
          "output_type": "display_data",
          "data": {
            "image/png": "[encoded data removed]",
            "text/plain": [
              "<Figure size 432x288 with 1 Axes>"
            ]
          },
          "metadata": {
            "tags": [],
            "needs_background": "light"
          }
        }
      ]
    },
    {
      "cell_type": "code",
      "metadata": {
        "colab": {
          "base_uri": "https://localhost:8080/",
          "height": 265
        },
        "id": "DL0bl2TZnWNJ",
        "outputId": "a951ab87-705b-4a92-89fd-43bd18da7cde"
      },
      "source": [
        "fig = df[\"job\"].hist()"
      ],
      "execution_count": 21,
      "outputs": [
        {
          "output_type": "display_data",
          "data": {
            "image/png": "[encoded data removed]",
            "text/plain": [
              "<Figure size 432x288 with 1 Axes>"
            ]
          },
          "metadata": {
            "tags": [],
            "needs_background": "light"
          }
        }
      ]
    },
    {
      "cell_type": "code",
      "metadata": {
        "colab": {
          "base_uri": "https://localhost:8080/"
        },
        "id": "CtAD3OHFnYmk",
        "outputId": "953af946-fd4d-493d-c16b-f4044e186e42"
      },
      "source": [
        "# group by function\n",
        "grouped = df.groupby(['checking_balance','credit_history', 'purpose'])  \n",
        "# view the median Age by the grouped features \n",
        "grouped.age.median()"
      ],
      "execution_count": 22,
      "outputs": [
        {
          "output_type": "execute_result",
          "data": {
            "text/plain": [
              "checking_balance  credit_history  purpose\n",
              "1.0               1               1          52.0\n",
              "                                  2          26.0\n",
              "                                  3          27.0\n",
              "                                  4          39.0\n",
              "                                  5          50.0\n",
              "                                             ... \n",
              "3.0               3               6          66.0\n",
              "                  4               1          34.0\n",
              "                                  6          33.0\n",
              "                  5               1          45.5\n",
              "                                  6          26.0\n",
              "Name: age, Length: 131, dtype: float64"
            ]
          },
          "metadata": {
            "tags": []
          },
          "execution_count": 22
        }
      ]
    },
    {
      "cell_type": "code",
      "metadata": {
        "colab": {
          "base_uri": "https://localhost:8080/",
          "height": 887
        },
        "id": "oz91DViBnbhy",
        "outputId": "e606d522-f2f7-4855-9464-891fa8c9f684"
      },
      "source": [
        "print(\"Values describe: \")\n",
        "print(pd.crosstab(df.purpose, df.credit_history))\n",
        "\n",
        "plt.figure(figsize = (14,12))\n",
        "\n",
        "plt.subplot(221)\n",
        "g = sns.countplot(x=\"purpose\", data=df, \n",
        "              palette=\"hls\", hue = \"credit_history\")\n",
        "g.set_xticklabels(g.get_xticklabels(),rotation=45)\n",
        "g.set_xlabel(\"\", fontsize=12)\n",
        "g.set_ylabel(\"Count\", fontsize=12)\n",
        "g.set_title(\"Purposes Count\", fontsize=20)\n",
        "\n",
        "plt.subplot(222)\n",
        "g1 = sns.violinplot(x=\"purpose\", y=\"age\", data=df, \n",
        "                    palette=\"hls\", hue = \"credit_history\")\n",
        "g1.set_xticklabels(g1.get_xticklabels(),rotation=45)\n",
        "g1.set_xlabel(\"\", fontsize=12)\n",
        "g1.set_ylabel(\"Count\", fontsize=12)\n",
        "g1.set_title(\"Purposes by Age\", fontsize=20)\n",
        "\n",
        "plt.subplot(212)\n",
        "g2 = sns.boxplot(x=\"purpose\", y=\"amount\", data=df, \n",
        "               palette=\"hls\", hue = \"credit_history\")\n",
        "g2.set_xlabel(\"Purposes\", fontsize=12)\n",
        "g2.set_ylabel(\"Credit Amount\", fontsize=12)\n",
        "g2.set_title(\"Credit Amount distribuition by Purposes\", fontsize=20)\n",
        "\n",
        "plt.subplots_adjust(hspace = 0.6, top = 0.8)\n",
        "\n",
        "plt.show()"
      ],
      "execution_count": 23,
      "outputs": [
        {
          "output_type": "stream",
          "text": [
            "Values describe: \n",
            "credit_history   1    2   3   4   5\n",
            "purpose                            \n",
            "1               80  167  20   4   9\n",
            "2               19   23   5   0   3\n",
            "3               50  106  10   7   8\n",
            "4               78  120  17   7  12\n",
            "5               36   51   8   3   5\n",
            "6               19   33  23  15   7\n",
            "7                1   10   0   0   1\n",
            "8                6   11   3   2   0\n",
            "9                3    4   2   1   2\n",
            "10               1    5   0   1   2\n"
          ],
          "name": "stdout"
        },
        {
          "output_type": "display_data",
          "data": {
            "image/png": "[encoded data removed]",
            "text/plain": [
              "<Figure size 1008x864 with 3 Axes>"
            ]
          },
          "metadata": {
            "tags": [],
            "needs_background": "light"
          }
        }
      ]
    },
    {
      "cell_type": "code",
      "metadata": {
        "colab": {
          "base_uri": "https://localhost:8080/",
          "height": 579
        },
        "id": "XWwqFBCznhSx",
        "outputId": "f5998245-8846-452c-e0e4-c51a1d81b108"
      },
      "source": [
        "plt.figure(figsize = (12,14))\n",
        "\n",
        "g= plt.subplot(311)\n",
        "g = sns.countplot(x=\"months_loan_duration\", data=df, \n",
        "              palette=\"hls\",  hue = \"credit_history\")\n",
        "g.set_xlabel(\"Duration Distribuition\", fontsize=12)\n",
        "g.set_ylabel(\"Count\", fontsize=12)\n",
        "g.set_title(\"Duration Count\", fontsize=20)\n",
        "\n",
        "g1 = plt.subplot(312)\n",
        "g1 = sns.pointplot(x=\"months_loan_duration\", y =\"amount\",data=df,\n",
        "                   hue=\"credit_history\", palette=\"hls\")\n",
        "g1.set_xlabel(\"Duration\", fontsize=12)\n",
        "g1.set_ylabel(\"Credit Amount(US)\", fontsize=12)\n",
        "g1.set_title(\"Credit Amount distribuition by Duration\", fontsize=20)\n",
        "\n",
        "#g2 = plt.subplot(313)\n",
        "#g2 = sns.distplot(df_good[\"Duration\"], color='g')\n",
        "#g2 = sns.distplot(df_bad[\"Duration\"], color='r')\n",
        "#g2.set_xlabel(\"Duration\", fontsize=12)\n",
        "#g2.set_ylabel(\"Frequency\", fontsize=12)\n",
        "#g2.set_title(\"Duration Frequency x good and bad Credit\", fontsize=20)\n",
        "\n",
        "plt.subplots_adjust(wspace = 0.4, hspace = 0.4,top = 0.9)\n",
        "\n",
        "plt.show()"
      ],
      "execution_count": 24,
      "outputs": [
        {
          "output_type": "display_data",
          "data": {
            "image/png": "[encoded data removed]",
            "text/plain": [
              "<Figure size 864x1008 with 2 Axes>"
            ]
          },
          "metadata": {
            "tags": [],
            "needs_background": "light"
          }
        }
      ]
    },
    {
      "cell_type": "code",
      "metadata": {
        "colab": {
          "base_uri": "https://localhost:8080/",
          "height": 258
        },
        "id": "53Ct02vPnkMV",
        "outputId": "cceb4c92-6504-4e21-f353-02496185d674"
      },
      "source": [
        "date_int = [\"purpose\", 'personal_status']\n",
        "cm = sns.light_palette(\"blue\", as_cmap=True)\n",
        "pd.crosstab(df[date_int[0]], df[date_int[1]]).style.background_gradient(cmap = cm)"
      ],
      "execution_count": 25,
      "outputs": [
        {
          "output_type": "execute_result",
          "data": {
            "text/html": [
              "<style  type=\"text/css\" >\n",
              "#T_7363a48c_b5be_11eb_b72a_0242ac1c0002row0_col0,#T_7363a48c_b5be_11eb_b72a_0242ac1c0002row0_col1,#T_7363a48c_b5be_11eb_b72a_0242ac1c0002row0_col3,#T_7363a48c_b5be_11eb_b72a_0242ac1c0002row2_col2{\n",
              "            background-color:  #0000ff;\n",
              "            color:  #f1f1f1;\n",
              "        }#T_7363a48c_b5be_11eb_b72a_0242ac1c0002row0_col2,#T_7363a48c_b5be_11eb_b72a_0242ac1c0002row4_col0{\n",
              "            background-color:  #8080f8;\n",
              "            color:  #000000;\n",
              "        }#T_7363a48c_b5be_11eb_b72a_0242ac1c0002row1_col0,#T_7363a48c_b5be_11eb_b72a_0242ac1c0002row2_col3{\n",
              "            background-color:  #c9c9f5;\n",
              "            color:  #000000;\n",
              "        }#T_7363a48c_b5be_11eb_b72a_0242ac1c0002row1_col1{\n",
              "            background-color:  #bcbcf5;\n",
              "            color:  #000000;\n",
              "        }#T_7363a48c_b5be_11eb_b72a_0242ac1c0002row1_col2,#T_7363a48c_b5be_11eb_b72a_0242ac1c0002row6_col2,#T_7363a48c_b5be_11eb_b72a_0242ac1c0002row8_col2{\n",
              "            background-color:  #e0e0f4;\n",
              "            color:  #000000;\n",
              "        }#T_7363a48c_b5be_11eb_b72a_0242ac1c0002row1_col3,#T_7363a48c_b5be_11eb_b72a_0242ac1c0002row6_col3,#T_7363a48c_b5be_11eb_b72a_0242ac1c0002row7_col1{\n",
              "            background-color:  #ebebf3;\n",
              "            color:  #000000;\n",
              "        }#T_7363a48c_b5be_11eb_b72a_0242ac1c0002row2_col0{\n",
              "            background-color:  #6767fa;\n",
              "            color:  #000000;\n",
              "        }#T_7363a48c_b5be_11eb_b72a_0242ac1c0002row2_col1{\n",
              "            background-color:  #2020fd;\n",
              "            color:  #f1f1f1;\n",
              "        }#T_7363a48c_b5be_11eb_b72a_0242ac1c0002row3_col0{\n",
              "            background-color:  #1414fe;\n",
              "            color:  #f1f1f1;\n",
              "        }#T_7363a48c_b5be_11eb_b72a_0242ac1c0002row3_col1{\n",
              "            background-color:  #2b2bfd;\n",
              "            color:  #f1f1f1;\n",
              "        }#T_7363a48c_b5be_11eb_b72a_0242ac1c0002row3_col2,#T_7363a48c_b5be_11eb_b72a_0242ac1c0002row5_col2{\n",
              "            background-color:  #5050fb;\n",
              "            color:  #f1f1f1;\n",
              "        }#T_7363a48c_b5be_11eb_b72a_0242ac1c0002row3_col3{\n",
              "            background-color:  #7e7ef9;\n",
              "            color:  #000000;\n",
              "        }#T_7363a48c_b5be_11eb_b72a_0242ac1c0002row4_col1{\n",
              "            background-color:  #b3b3f6;\n",
              "            color:  #000000;\n",
              "        }#T_7363a48c_b5be_11eb_b72a_0242ac1c0002row4_col2{\n",
              "            background-color:  #c0c0f5;\n",
              "            color:  #000000;\n",
              "        }#T_7363a48c_b5be_11eb_b72a_0242ac1c0002row4_col3{\n",
              "            background-color:  #cecef4;\n",
              "            color:  #000000;\n",
              "        }#T_7363a48c_b5be_11eb_b72a_0242ac1c0002row5_col0{\n",
              "            background-color:  #9292f8;\n",
              "            color:  #000000;\n",
              "        }#T_7363a48c_b5be_11eb_b72a_0242ac1c0002row5_col1{\n",
              "            background-color:  #c2c2f5;\n",
              "            color:  #000000;\n",
              "        }#T_7363a48c_b5be_11eb_b72a_0242ac1c0002row5_col3{\n",
              "            background-color:  #bebef5;\n",
              "            color:  #000000;\n",
              "        }#T_7363a48c_b5be_11eb_b72a_0242ac1c0002row6_col0{\n",
              "            background-color:  #efeff3;\n",
              "            color:  #000000;\n",
              "        }#T_7363a48c_b5be_11eb_b72a_0242ac1c0002row6_col1{\n",
              "            background-color:  #e8e8f3;\n",
              "            color:  #000000;\n",
              "        }#T_7363a48c_b5be_11eb_b72a_0242ac1c0002row7_col0{\n",
              "            background-color:  #e1e1f4;\n",
              "            color:  #000000;\n",
              "        }#T_7363a48c_b5be_11eb_b72a_0242ac1c0002row7_col2{\n",
              "            background-color:  #d0d0f4;\n",
              "            color:  #000000;\n",
              "        }#T_7363a48c_b5be_11eb_b72a_0242ac1c0002row7_col3,#T_7363a48c_b5be_11eb_b72a_0242ac1c0002row9_col3{\n",
              "            background-color:  #dfdff4;\n",
              "            color:  #000000;\n",
              "        }#T_7363a48c_b5be_11eb_b72a_0242ac1c0002row8_col0{\n",
              "            background-color:  #e9e9f3;\n",
              "            color:  #000000;\n",
              "        }#T_7363a48c_b5be_11eb_b72a_0242ac1c0002row8_col1,#T_7363a48c_b5be_11eb_b72a_0242ac1c0002row8_col3,#T_7363a48c_b5be_11eb_b72a_0242ac1c0002row9_col0,#T_7363a48c_b5be_11eb_b72a_0242ac1c0002row9_col1,#T_7363a48c_b5be_11eb_b72a_0242ac1c0002row9_col2{\n",
              "            background-color:  #f0f0f3;\n",
              "            color:  #000000;\n",
              "        }</style><table id=\"T_7363a48c_b5be_11eb_b72a_0242ac1c0002\" ><thead>    <tr>        <th class=\"index_name level0\" >personal_status</th>        <th class=\"col_heading level0 col0\" >1</th>        <th class=\"col_heading level0 col1\" >2</th>        <th class=\"col_heading level0 col2\" >3</th>        <th class=\"col_heading level0 col3\" >4</th>    </tr>    <tr>        <th class=\"index_name level0\" >purpose</th>        <th class=\"blank\" ></th>        <th class=\"blank\" ></th>        <th class=\"blank\" ></th>        <th class=\"blank\" ></th>    </tr></thead><tbody>\n",
              "                <tr>\n",
              "                        <th id=\"T_7363a48c_b5be_11eb_b72a_0242ac1c0002level0_row0\" class=\"row_heading level0 row0\" >1</th>\n",
              "                        <td id=\"T_7363a48c_b5be_11eb_b72a_0242ac1c0002row0_col0\" class=\"data row0 col0\" >146</td>\n",
              "                        <td id=\"T_7363a48c_b5be_11eb_b72a_0242ac1c0002row0_col1\" class=\"data row0 col1\" >85</td>\n",
              "                        <td id=\"T_7363a48c_b5be_11eb_b72a_0242ac1c0002row0_col2\" class=\"data row0 col2\" >7</td>\n",
              "                        <td id=\"T_7363a48c_b5be_11eb_b72a_0242ac1c0002row0_col3\" class=\"data row0 col3\" >42</td>\n",
              "            </tr>\n",
              "            <tr>\n",
              "                        <th id=\"T_7363a48c_b5be_11eb_b72a_0242ac1c0002level0_row1\" class=\"row_heading level0 row1\" >2</th>\n",
              "                        <td id=\"T_7363a48c_b5be_11eb_b72a_0242ac1c0002row1_col0\" class=\"data row1 col0\" >27</td>\n",
              "                        <td id=\"T_7363a48c_b5be_11eb_b72a_0242ac1c0002row1_col1\" class=\"data row1 col1\" >21</td>\n",
              "                        <td id=\"T_7363a48c_b5be_11eb_b72a_0242ac1c0002row1_col2\" class=\"data row1 col2\" >1</td>\n",
              "                        <td id=\"T_7363a48c_b5be_11eb_b72a_0242ac1c0002row1_col3\" class=\"data row1 col3\" >1</td>\n",
              "            </tr>\n",
              "            <tr>\n",
              "                        <th id=\"T_7363a48c_b5be_11eb_b72a_0242ac1c0002level0_row2\" class=\"row_heading level0 row2\" >3</th>\n",
              "                        <td id=\"T_7363a48c_b5be_11eb_b72a_0242ac1c0002row2_col0\" class=\"data row2 col0\" >85</td>\n",
              "                        <td id=\"T_7363a48c_b5be_11eb_b72a_0242ac1c0002row2_col1\" class=\"data row2 col1\" >74</td>\n",
              "                        <td id=\"T_7363a48c_b5be_11eb_b72a_0242ac1c0002row2_col2\" class=\"data row2 col2\" >15</td>\n",
              "                        <td id=\"T_7363a48c_b5be_11eb_b72a_0242ac1c0002row2_col3\" class=\"data row2 col3\" >7</td>\n",
              "            </tr>\n",
              "            <tr>\n",
              "                        <th id=\"T_7363a48c_b5be_11eb_b72a_0242ac1c0002level0_row3\" class=\"row_heading level0 row3\" >4</th>\n",
              "                        <td id=\"T_7363a48c_b5be_11eb_b72a_0242ac1c0002row3_col0\" class=\"data row3 col0\" >134</td>\n",
              "                        <td id=\"T_7363a48c_b5be_11eb_b72a_0242ac1c0002row3_col1\" class=\"data row3 col1\" >70</td>\n",
              "                        <td id=\"T_7363a48c_b5be_11eb_b72a_0242ac1c0002row3_col2\" class=\"data row3 col2\" >10</td>\n",
              "                        <td id=\"T_7363a48c_b5be_11eb_b72a_0242ac1c0002row3_col3\" class=\"data row3 col3\" >20</td>\n",
              "            </tr>\n",
              "            <tr>\n",
              "                        <th id=\"T_7363a48c_b5be_11eb_b72a_0242ac1c0002level0_row4\" class=\"row_heading level0 row4\" >5</th>\n",
              "                        <td id=\"T_7363a48c_b5be_11eb_b72a_0242ac1c0002row4_col0\" class=\"data row4 col0\" >70</td>\n",
              "                        <td id=\"T_7363a48c_b5be_11eb_b72a_0242ac1c0002row4_col1\" class=\"data row4 col1\" >24</td>\n",
              "                        <td id=\"T_7363a48c_b5be_11eb_b72a_0242ac1c0002row4_col2\" class=\"data row4 col2\" >3</td>\n",
              "                        <td id=\"T_7363a48c_b5be_11eb_b72a_0242ac1c0002row4_col3\" class=\"data row4 col3\" >6</td>\n",
              "            </tr>\n",
              "            <tr>\n",
              "                        <th id=\"T_7363a48c_b5be_11eb_b72a_0242ac1c0002level0_row5\" class=\"row_heading level0 row5\" >6</th>\n",
              "                        <td id=\"T_7363a48c_b5be_11eb_b72a_0242ac1c0002row5_col0\" class=\"data row5 col0\" >59</td>\n",
              "                        <td id=\"T_7363a48c_b5be_11eb_b72a_0242ac1c0002row5_col1\" class=\"data row5 col1\" >19</td>\n",
              "                        <td id=\"T_7363a48c_b5be_11eb_b72a_0242ac1c0002row5_col2\" class=\"data row5 col2\" >10</td>\n",
              "                        <td id=\"T_7363a48c_b5be_11eb_b72a_0242ac1c0002row5_col3\" class=\"data row5 col3\" >9</td>\n",
              "            </tr>\n",
              "            <tr>\n",
              "                        <th id=\"T_7363a48c_b5be_11eb_b72a_0242ac1c0002level0_row6\" class=\"row_heading level0 row6\" >7</th>\n",
              "                        <td id=\"T_7363a48c_b5be_11eb_b72a_0242ac1c0002row6_col0\" class=\"data row6 col0\" >4</td>\n",
              "                        <td id=\"T_7363a48c_b5be_11eb_b72a_0242ac1c0002row6_col1\" class=\"data row6 col1\" >6</td>\n",
              "                        <td id=\"T_7363a48c_b5be_11eb_b72a_0242ac1c0002row6_col2\" class=\"data row6 col2\" >1</td>\n",
              "                        <td id=\"T_7363a48c_b5be_11eb_b72a_0242ac1c0002row6_col3\" class=\"data row6 col3\" >1</td>\n",
              "            </tr>\n",
              "            <tr>\n",
              "                        <th id=\"T_7363a48c_b5be_11eb_b72a_0242ac1c0002level0_row7\" class=\"row_heading level0 row7\" >8</th>\n",
              "                        <td id=\"T_7363a48c_b5be_11eb_b72a_0242ac1c0002row7_col0\" class=\"data row7 col0\" >12</td>\n",
              "                        <td id=\"T_7363a48c_b5be_11eb_b72a_0242ac1c0002row7_col1\" class=\"data row7 col1\" >5</td>\n",
              "                        <td id=\"T_7363a48c_b5be_11eb_b72a_0242ac1c0002row7_col2\" class=\"data row7 col2\" >2</td>\n",
              "                        <td id=\"T_7363a48c_b5be_11eb_b72a_0242ac1c0002row7_col3\" class=\"data row7 col3\" >3</td>\n",
              "            </tr>\n",
              "            <tr>\n",
              "                        <th id=\"T_7363a48c_b5be_11eb_b72a_0242ac1c0002level0_row8\" class=\"row_heading level0 row8\" >9</th>\n",
              "                        <td id=\"T_7363a48c_b5be_11eb_b72a_0242ac1c0002row8_col0\" class=\"data row8 col0\" >8</td>\n",
              "                        <td id=\"T_7363a48c_b5be_11eb_b72a_0242ac1c0002row8_col1\" class=\"data row8 col1\" >3</td>\n",
              "                        <td id=\"T_7363a48c_b5be_11eb_b72a_0242ac1c0002row8_col2\" class=\"data row8 col2\" >1</td>\n",
              "                        <td id=\"T_7363a48c_b5be_11eb_b72a_0242ac1c0002row8_col3\" class=\"data row8 col3\" >0</td>\n",
              "            </tr>\n",
              "            <tr>\n",
              "                        <th id=\"T_7363a48c_b5be_11eb_b72a_0242ac1c0002level0_row9\" class=\"row_heading level0 row9\" >10</th>\n",
              "                        <td id=\"T_7363a48c_b5be_11eb_b72a_0242ac1c0002row9_col0\" class=\"data row9 col0\" >3</td>\n",
              "                        <td id=\"T_7363a48c_b5be_11eb_b72a_0242ac1c0002row9_col1\" class=\"data row9 col1\" >3</td>\n",
              "                        <td id=\"T_7363a48c_b5be_11eb_b72a_0242ac1c0002row9_col2\" class=\"data row9 col2\" >0</td>\n",
              "                        <td id=\"T_7363a48c_b5be_11eb_b72a_0242ac1c0002row9_col3\" class=\"data row9 col3\" >3</td>\n",
              "            </tr>\n",
              "    </tbody></table>"
            ],
            "text/plain": [
              "<pandas.io.formats.style.Styler at 0x7fd5548b1e10>"
            ]
          },
          "metadata": {
            "tags": []
          },
          "execution_count": 25
        }
      ]
    },
    {
      "cell_type": "code",
      "metadata": {
        "colab": {
          "base_uri": "https://localhost:8080/",
          "height": 297
        },
        "id": "m7yD66Dwnmmg",
        "outputId": "51803539-0291-4458-a6bb-b3fc5c5e568c"
      },
      "source": [
        "sns.countplot(x=\"personal_status\", data=df, \n",
        "              palette=\"hls\", hue = \"credit_history\")"
      ],
      "execution_count": 26,
      "outputs": [
        {
          "output_type": "execute_result",
          "data": {
            "text/plain": [
              "<matplotlib.axes._subplots.AxesSubplot at 0x7fd554251050>"
            ]
          },
          "metadata": {
            "tags": []
          },
          "execution_count": 26
        },
        {
          "output_type": "display_data",
          "data": {
            "image/png": "[encoded data removed]",
            "text/plain": [
              "<Figure size 432x288 with 1 Axes>"
            ]
          },
          "metadata": {
            "tags": [],
            "needs_background": "light"
          }
        }
      ]
    },
    {
      "cell_type": "code",
      "metadata": {
        "colab": {
          "base_uri": "https://localhost:8080/",
          "height": 297
        },
        "id": "RG4YTbzQnomK",
        "outputId": "4908b254-759d-44c0-c4dd-768cf6994a99"
      },
      "source": [
        "sns.countplot(x=\"credit_history\", data=df, \n",
        "              palette=\"hls\", hue = \"checking_balance\")"
      ],
      "execution_count": 27,
      "outputs": [
        {
          "output_type": "execute_result",
          "data": {
            "text/plain": [
              "<matplotlib.axes._subplots.AxesSubplot at 0x7fd5545bb9d0>"
            ]
          },
          "metadata": {
            "tags": []
          },
          "execution_count": 27
        },
        {
          "output_type": "display_data",
          "data": {
            "image/png": "[encoded data removed]",
            "text/plain": [
              "<Figure size 432x288 with 1 Axes>"
            ]
          },
          "metadata": {
            "tags": [],
            "needs_background": "light"
          }
        }
      ]
    },
    {
      "cell_type": "code",
      "metadata": {
        "colab": {
          "base_uri": "https://localhost:8080/",
          "height": 297
        },
        "id": "WgZAv1XxnrBs",
        "outputId": "4e4fda26-d60d-41df-fd89-438eae1d2623"
      },
      "source": [
        "sns.countplot(x=\"checking_balance\", data=df, \n",
        "              palette=\"hls\", hue = \"credit_history\")"
      ],
      "execution_count": 28,
      "outputs": [
        {
          "output_type": "execute_result",
          "data": {
            "text/plain": [
              "<matplotlib.axes._subplots.AxesSubplot at 0x7fd553f3e310>"
            ]
          },
          "metadata": {
            "tags": []
          },
          "execution_count": 28
        },
        {
          "output_type": "display_data",
          "data": {
            "image/png": "[encoded data removed]",
            "text/plain": [
              "<Figure size 432x288 with 1 Axes>"
            ]
          },
          "metadata": {
            "tags": [],
            "needs_background": "light"
          }
        }
      ]
    },
    {
      "cell_type": "code",
      "metadata": {
        "colab": {
          "base_uri": "https://localhost:8080/",
          "height": 249
        },
        "id": "tBOgWTLBntVv",
        "outputId": "1a33eb24-7fae-4227-912b-bab89a84581d"
      },
      "source": [
        "df.head()"
      ],
      "execution_count": 29,
      "outputs": [
        {
          "output_type": "execute_result",
          "data": {
            "text/html": [
              "<div>\n",
              "<style scoped>\n",
              "    .dataframe tbody tr th:only-of-type {\n",
              "        vertical-align: middle;\n",
              "    }\n",
              "\n",
              "    .dataframe tbody tr th {\n",
              "        vertical-align: top;\n",
              "    }\n",
              "\n",
              "    .dataframe thead th {\n",
              "        text-align: right;\n",
              "    }\n",
              "</style>\n",
              "<table border=\"1\" class=\"dataframe\">\n",
              "  <thead>\n",
              "    <tr style=\"text-align: right;\">\n",
              "      <th></th>\n",
              "      <th>checking_balance</th>\n",
              "      <th>months_loan_duration</th>\n",
              "      <th>credit_history</th>\n",
              "      <th>purpose</th>\n",
              "      <th>amount</th>\n",
              "      <th>savings_balance</th>\n",
              "      <th>employment_length</th>\n",
              "      <th>installment_rate</th>\n",
              "      <th>personal_status</th>\n",
              "      <th>other_debtors</th>\n",
              "      <th>residence_history</th>\n",
              "      <th>property</th>\n",
              "      <th>age</th>\n",
              "      <th>installment_plan</th>\n",
              "      <th>housing</th>\n",
              "      <th>existing_credits</th>\n",
              "      <th>default</th>\n",
              "      <th>dependents</th>\n",
              "      <th>telephone</th>\n",
              "      <th>foreign_worker</th>\n",
              "      <th>job</th>\n",
              "    </tr>\n",
              "  </thead>\n",
              "  <tbody>\n",
              "    <tr>\n",
              "      <th>0</th>\n",
              "      <td>1.000000</td>\n",
              "      <td>6</td>\n",
              "      <td>1</td>\n",
              "      <td>1</td>\n",
              "      <td>1169</td>\n",
              "      <td>1.456548</td>\n",
              "      <td>&gt; 7 yrs</td>\n",
              "      <td>4</td>\n",
              "      <td>1</td>\n",
              "      <td>none</td>\n",
              "      <td>4</td>\n",
              "      <td>real estate</td>\n",
              "      <td>67</td>\n",
              "      <td>none</td>\n",
              "      <td>own</td>\n",
              "      <td>2</td>\n",
              "      <td>1</td>\n",
              "      <td>1</td>\n",
              "      <td>yes</td>\n",
              "      <td>yes</td>\n",
              "      <td>1</td>\n",
              "    </tr>\n",
              "    <tr>\n",
              "      <th>1</th>\n",
              "      <td>2.000000</td>\n",
              "      <td>48</td>\n",
              "      <td>2</td>\n",
              "      <td>1</td>\n",
              "      <td>5951</td>\n",
              "      <td>1.000000</td>\n",
              "      <td>1 - 4 yrs</td>\n",
              "      <td>2</td>\n",
              "      <td>2</td>\n",
              "      <td>none</td>\n",
              "      <td>2</td>\n",
              "      <td>real estate</td>\n",
              "      <td>22</td>\n",
              "      <td>none</td>\n",
              "      <td>own</td>\n",
              "      <td>1</td>\n",
              "      <td>2</td>\n",
              "      <td>1</td>\n",
              "      <td>none</td>\n",
              "      <td>yes</td>\n",
              "      <td>1</td>\n",
              "    </tr>\n",
              "    <tr>\n",
              "      <th>2</th>\n",
              "      <td>1.651815</td>\n",
              "      <td>12</td>\n",
              "      <td>1</td>\n",
              "      <td>2</td>\n",
              "      <td>2096</td>\n",
              "      <td>1.000000</td>\n",
              "      <td>4 - 7 yrs</td>\n",
              "      <td>2</td>\n",
              "      <td>1</td>\n",
              "      <td>none</td>\n",
              "      <td>3</td>\n",
              "      <td>real estate</td>\n",
              "      <td>49</td>\n",
              "      <td>none</td>\n",
              "      <td>own</td>\n",
              "      <td>1</td>\n",
              "      <td>1</td>\n",
              "      <td>2</td>\n",
              "      <td>none</td>\n",
              "      <td>yes</td>\n",
              "      <td>2</td>\n",
              "    </tr>\n",
              "    <tr>\n",
              "      <th>3</th>\n",
              "      <td>1.000000</td>\n",
              "      <td>42</td>\n",
              "      <td>2</td>\n",
              "      <td>3</td>\n",
              "      <td>7882</td>\n",
              "      <td>1.000000</td>\n",
              "      <td>4 - 7 yrs</td>\n",
              "      <td>2</td>\n",
              "      <td>1</td>\n",
              "      <td>guarantor</td>\n",
              "      <td>4</td>\n",
              "      <td>building society savings</td>\n",
              "      <td>45</td>\n",
              "      <td>none</td>\n",
              "      <td>for free</td>\n",
              "      <td>1</td>\n",
              "      <td>1</td>\n",
              "      <td>2</td>\n",
              "      <td>none</td>\n",
              "      <td>yes</td>\n",
              "      <td>1</td>\n",
              "    </tr>\n",
              "    <tr>\n",
              "      <th>4</th>\n",
              "      <td>1.000000</td>\n",
              "      <td>24</td>\n",
              "      <td>3</td>\n",
              "      <td>4</td>\n",
              "      <td>4870</td>\n",
              "      <td>1.000000</td>\n",
              "      <td>1 - 4 yrs</td>\n",
              "      <td>3</td>\n",
              "      <td>1</td>\n",
              "      <td>none</td>\n",
              "      <td>4</td>\n",
              "      <td>unknown/none</td>\n",
              "      <td>53</td>\n",
              "      <td>none</td>\n",
              "      <td>for free</td>\n",
              "      <td>2</td>\n",
              "      <td>2</td>\n",
              "      <td>2</td>\n",
              "      <td>none</td>\n",
              "      <td>yes</td>\n",
              "      <td>1</td>\n",
              "    </tr>\n",
              "  </tbody>\n",
              "</table>\n",
              "</div>"
            ],
            "text/plain": [
              "   checking_balance  months_loan_duration  ...  foreign_worker  job\n",
              "0          1.000000                     6  ...             yes    1\n",
              "1          2.000000                    48  ...             yes    1\n",
              "2          1.651815                    12  ...             yes    2\n",
              "3          1.000000                    42  ...             yes    1\n",
              "4          1.000000                    24  ...             yes    1\n",
              "\n",
              "[5 rows x 21 columns]"
            ]
          },
          "metadata": {
            "tags": []
          },
          "execution_count": 29
        }
      ]
    },
    {
      "cell_type": "code",
      "metadata": {
        "id": "UzVD6qRanuxF"
      },
      "source": [
        "df.drop(['employment_length', 'other_debtors', 'residence_history', 'property', 'installment_plan', 'housing', 'dependents', 'telephone', 'foreign_worker'], axis=1, inplace=True)"
      ],
      "execution_count": 30,
      "outputs": []
    },
    {
      "cell_type": "code",
      "metadata": {
        "colab": {
          "base_uri": "https://localhost:8080/",
          "height": 195
        },
        "id": "mgAArODvnxfS",
        "outputId": "e6e4dded-3e01-4ccc-84bb-442e0a4efa3c"
      },
      "source": [
        "df.head()"
      ],
      "execution_count": 31,
      "outputs": [
        {
          "output_type": "execute_result",
          "data": {
            "text/html": [
              "<div>\n",
              "<style scoped>\n",
              "    .dataframe tbody tr th:only-of-type {\n",
              "        vertical-align: middle;\n",
              "    }\n",
              "\n",
              "    .dataframe tbody tr th {\n",
              "        vertical-align: top;\n",
              "    }\n",
              "\n",
              "    .dataframe thead th {\n",
              "        text-align: right;\n",
              "    }\n",
              "</style>\n",
              "<table border=\"1\" class=\"dataframe\">\n",
              "  <thead>\n",
              "    <tr style=\"text-align: right;\">\n",
              "      <th></th>\n",
              "      <th>checking_balance</th>\n",
              "      <th>months_loan_duration</th>\n",
              "      <th>credit_history</th>\n",
              "      <th>purpose</th>\n",
              "      <th>amount</th>\n",
              "      <th>savings_balance</th>\n",
              "      <th>installment_rate</th>\n",
              "      <th>personal_status</th>\n",
              "      <th>age</th>\n",
              "      <th>existing_credits</th>\n",
              "      <th>default</th>\n",
              "      <th>job</th>\n",
              "    </tr>\n",
              "  </thead>\n",
              "  <tbody>\n",
              "    <tr>\n",
              "      <th>0</th>\n",
              "      <td>1.000000</td>\n",
              "      <td>6</td>\n",
              "      <td>1</td>\n",
              "      <td>1</td>\n",
              "      <td>1169</td>\n",
              "      <td>1.456548</td>\n",
              "      <td>4</td>\n",
              "      <td>1</td>\n",
              "      <td>67</td>\n",
              "      <td>2</td>\n",
              "      <td>1</td>\n",
              "      <td>1</td>\n",
              "    </tr>\n",
              "    <tr>\n",
              "      <th>1</th>\n",
              "      <td>2.000000</td>\n",
              "      <td>48</td>\n",
              "      <td>2</td>\n",
              "      <td>1</td>\n",
              "      <td>5951</td>\n",
              "      <td>1.000000</td>\n",
              "      <td>2</td>\n",
              "      <td>2</td>\n",
              "      <td>22</td>\n",
              "      <td>1</td>\n",
              "      <td>2</td>\n",
              "      <td>1</td>\n",
              "    </tr>\n",
              "    <tr>\n",
              "      <th>2</th>\n",
              "      <td>1.651815</td>\n",
              "      <td>12</td>\n",
              "      <td>1</td>\n",
              "      <td>2</td>\n",
              "      <td>2096</td>\n",
              "      <td>1.000000</td>\n",
              "      <td>2</td>\n",
              "      <td>1</td>\n",
              "      <td>49</td>\n",
              "      <td>1</td>\n",
              "      <td>1</td>\n",
              "      <td>2</td>\n",
              "    </tr>\n",
              "    <tr>\n",
              "      <th>3</th>\n",
              "      <td>1.000000</td>\n",
              "      <td>42</td>\n",
              "      <td>2</td>\n",
              "      <td>3</td>\n",
              "      <td>7882</td>\n",
              "      <td>1.000000</td>\n",
              "      <td>2</td>\n",
              "      <td>1</td>\n",
              "      <td>45</td>\n",
              "      <td>1</td>\n",
              "      <td>1</td>\n",
              "      <td>1</td>\n",
              "    </tr>\n",
              "    <tr>\n",
              "      <th>4</th>\n",
              "      <td>1.000000</td>\n",
              "      <td>24</td>\n",
              "      <td>3</td>\n",
              "      <td>4</td>\n",
              "      <td>4870</td>\n",
              "      <td>1.000000</td>\n",
              "      <td>3</td>\n",
              "      <td>1</td>\n",
              "      <td>53</td>\n",
              "      <td>2</td>\n",
              "      <td>2</td>\n",
              "      <td>1</td>\n",
              "    </tr>\n",
              "  </tbody>\n",
              "</table>\n",
              "</div>"
            ],
            "text/plain": [
              "   checking_balance  months_loan_duration  ...  default  job\n",
              "0          1.000000                     6  ...        1    1\n",
              "1          2.000000                    48  ...        2    1\n",
              "2          1.651815                    12  ...        1    2\n",
              "3          1.000000                    42  ...        1    1\n",
              "4          1.000000                    24  ...        2    1\n",
              "\n",
              "[5 rows x 12 columns]"
            ]
          },
          "metadata": {
            "tags": []
          },
          "execution_count": 31
        }
      ]
    },
    {
      "cell_type": "code",
      "metadata": {
        "id": "7AGiOGteqVtT"
      },
      "source": [
        "X=df.drop('default',axis=1)\n",
        "y=df.default"
      ],
      "execution_count": 32,
      "outputs": []
    },
    {
      "cell_type": "code",
      "metadata": {
        "id": "2xehcCiVq-9s"
      },
      "source": [
        "X_train,X_test,y_train,y_test=train_test_split(X,y,random_state=1,train_size=0.8)"
      ],
      "execution_count": 33,
      "outputs": []
    },
    {
      "cell_type": "code",
      "metadata": {
        "colab": {
          "base_uri": "https://localhost:8080/"
        },
        "id": "E3rxb9msrzmy",
        "outputId": "120436ae-3ce4-464d-cf70-d96d2ebc78f8"
      },
      "source": [
        "X_train.shape,X_test.shape,y_train.shape,y_test.shape"
      ],
      "execution_count": 34,
      "outputs": [
        {
          "output_type": "execute_result",
          "data": {
            "text/plain": [
              "((800, 11), (200, 11), (800,), (200,))"
            ]
          },
          "metadata": {
            "tags": []
          },
          "execution_count": 34
        }
      ]
    },
    {
      "cell_type": "code",
      "metadata": {
        "id": "gWZdO8JbtLHT"
      },
      "source": [
        "pipe=Pipeline([('scaler',StandardScaler()),('classifier',RandomForestClassifier())])"
      ],
      "execution_count": 35,
      "outputs": []
    },
    {
      "cell_type": "code",
      "metadata": {
        "id": "uuL5X43-uGeo"
      },
      "source": [
        "grid_params=[\n",
        "              {\"classifier\": [RandomForestClassifier()],\n",
        "                 \"classifier__n_estimators\": [50,75,100],\n",
        "                 \"classifier__max_depth\":[2,4,6,None],\n",
        "                 \"classifier__min_samples_leaf\":[1,2,5],\n",
        "                 \"classifier__max_leaf_nodes\": [2, 4,6]},\n",
        "             {\n",
        "              \"classifier\":[DecisionTreeClassifier()],\n",
        "              \"classifier__max_depth\":[2,5,7,None],\n",
        "              \"classifier__min_samples_leaf\":[1,2,3,5]}\n",
        "             ,\n",
        "             {\n",
        "              \"classifier\":[GradientBoostingClassifier()],\n",
        "              \"classifier__learning_rate\":[0.1,0.5,0.01,],\n",
        "              \"classifier__n_estimators\":[50,100,75,150]\n",
        "             }\n",
        "             ,\n",
        "             {\n",
        "              \"classifier\":[AdaBoostClassifier()],\n",
        "              \"classifier__n_estimators\":[50,75,100],\n",
        "              \"classifier__learning_rate\":[0.1,0.01,0.5]\n",
        "             }\n",
        "             ,\n",
        "             {\n",
        "             \"classifier\":[XGBClassifier()],\n",
        "              \"classifier__max_depth\":[1,3,4]\n",
        "             }\n",
        "             \n",
        "]"
      ],
      "execution_count": 36,
      "outputs": []
    },
    {
      "cell_type": "code",
      "metadata": {
        "id": "BTbgL67huIo6"
      },
      "source": [
        "clf=GridSearchCV(pipe,grid_params,cv=5,n_jobs=-1)\n",
        "best_model=clf.fit(X_train,y_train)"
      ],
      "execution_count": 37,
      "outputs": []
    },
    {
      "cell_type": "code",
      "metadata": {
        "colab": {
          "base_uri": "https://localhost:8080/"
        },
        "id": "Ani57mHvuKqK",
        "outputId": "9dbd6fc4-b703-4641-aeb2-7243c6f07781"
      },
      "source": [
        "print(best_model.best_estimator_)\n",
        "print(\"\")\n",
        "print(\"The mean accuracy of the model is:\",best_model.score(X_test,y_test))"
      ],
      "execution_count": 38,
      "outputs": [
        {
          "output_type": "stream",
          "text": [
            "Pipeline(memory=None,\n",
            "         steps=[('scaler',\n",
            "                 StandardScaler(copy=True, with_mean=True, with_std=True)),\n",
            "                ('classifier',\n",
            "                 XGBClassifier(base_score=0.5, booster='gbtree',\n",
            "                               colsample_bylevel=1, colsample_bynode=1,\n",
            "                               colsample_bytree=1, gamma=0, learning_rate=0.1,\n",
            "                               max_delta_step=0, max_depth=3,\n",
            "                               min_child_weight=1, missing=None,\n",
            "                               n_estimators=100, n_jobs=1, nthread=None,\n",
            "                               objective='binary:logistic', random_state=0,\n",
            "                               reg_alpha=0, reg_lambda=1, scale_pos_weight=1,\n",
            "                               seed=None, silent=None, subsample=1,\n",
            "                               verbosity=1))],\n",
            "         verbose=False)\n",
            "\n",
            "The mean accuracy of the model is: 0.745\n"
          ],
          "name": "stdout"
        }
      ]
    },
    {
      "cell_type": "code",
      "metadata": {
        "colab": {
          "base_uri": "https://localhost:8080/"
        },
        "id": "26-dy6rAuNNQ",
        "outputId": "841e6d59-d4ad-464e-8299-337fa6828a3f"
      },
      "source": [
        "y_pred=best_model.predict(X_test)\n",
        "print(classification_report(y_pred,y_test))"
      ],
      "execution_count": 39,
      "outputs": [
        {
          "output_type": "stream",
          "text": [
            "              precision    recall  f1-score   support\n",
            "\n",
            "           1       0.87      0.79      0.83       156\n",
            "           2       0.44      0.59      0.50        44\n",
            "\n",
            "    accuracy                           0.74       200\n",
            "   macro avg       0.66      0.69      0.67       200\n",
            "weighted avg       0.78      0.74      0.76       200\n",
            "\n"
          ],
          "name": "stdout"
        }
      ]
    },
    {
      "cell_type": "code",
      "metadata": {
        "colab": {
          "base_uri": "https://localhost:8080/",
          "height": 314
        },
        "id": "z7ftWJ6PuPQ4",
        "outputId": "5dcd30a8-767c-492c-9f72-7a6534d6e649"
      },
      "source": [
        "from sklearn.metrics import plot_confusion_matrix\n",
        "plt.figure(figsize=(15,10))\n",
        "plt.rcParams.update({'font.size': 20})\n",
        "plot_confusion_matrix(best_model,X_test,y_test,cmap=\"OrRd\")\n",
        "plt.show()"
      ],
      "execution_count": 40,
      "outputs": [
        {
          "output_type": "display_data",
          "data": {
            "text/plain": [
              "<Figure size 1080x720 with 0 Axes>"
            ]
          },
          "metadata": {
            "tags": []
          }
        },
        {
          "output_type": "display_data",
          "data": {
            "image/png": "[encoded data removed]",
            "text/plain": [
              "<Figure size 432x288 with 2 Axes>"
            ]
          },
          "metadata": {
            "tags": [],
            "needs_background": "light"
          }
        }
      ]
    },
    {
      "cell_type": "markdown",
      "metadata": {
        "id": "RV9dDkEd0G4f"
      },
      "source": [
        "**Neural Networks**"
      ]
    },
    {
      "cell_type": "code",
      "metadata": {
        "id": "1atthkLTwXuF"
      },
      "source": [
        "from tensorflow.keras.models import Sequential\n",
        "from tensorflow.keras.layers import Dense,Dropout,BatchNormalization\n",
        "from sklearn.preprocessing import StandardScaler"
      ],
      "execution_count": 47,
      "outputs": []
    },
    {
      "cell_type": "code",
      "metadata": {
        "id": "Rvt60xx4Gz6J"
      },
      "source": [
        "scaler=StandardScaler()\n",
        "scaled=scaler.fit_transform(X_train)\n"
      ],
      "execution_count": 49,
      "outputs": []
    },
    {
      "cell_type": "code",
      "metadata": {
        "colab": {
          "base_uri": "https://localhost:8080/"
        },
        "id": "MLOWjo2iyEF-",
        "outputId": "02265702-ca24-4153-d815-5f289b38487e"
      },
      "source": [
        "X_train.shape"
      ],
      "execution_count": 50,
      "outputs": [
        {
          "output_type": "execute_result",
          "data": {
            "text/plain": [
              "(800, 11)"
            ]
          },
          "metadata": {
            "tags": []
          },
          "execution_count": 50
        }
      ]
    },
    {
      "cell_type": "code",
      "metadata": {
        "id": "zsK-7wG10V39"
      },
      "source": [
        "model=Sequential()\n",
        "model.add(Dense(units=8,activation='selu',kernel_initializer='lecun_normal'))\n",
        "#model.add(BatchNormalization())\n",
        "model.add(Dense(units=11,activation='selu',kernel_initializer='lecun_normal'))\n",
        "#model.add(BatchNormalization())\n",
        "model.add(Dense(units=5,activation='selu',kernel_initializer='lecun_normal'))\n",
        "#model.add(BatchNormalization())\n",
        "model.add(Dense(units=5,activation='tanh',kernel_initializer='glorot_normal'))\n",
        "#model.add(Dense(units=4,activation='selu',kernel_initializer='lecun_normal'))\n",
        "model.add(Dense(units=1,activation='sigmoid'))\n",
        "model.compile(optimizer='adam',metrics=['accuracy'],loss='binary_crossentropy')"
      ],
      "execution_count": 80,
      "outputs": []
    },
    {
      "cell_type": "code",
      "metadata": {
        "colab": {
          "base_uri": "https://localhost:8080/"
        },
        "id": "VWOJezEt01Du",
        "outputId": "ba161d13-e2e1-49f6-9106-b19413b95df1"
      },
      "source": [
        "trained=model.fit(scaled,y_train,validation_split=0.2,epochs=15)"
      ],
      "execution_count": 82,
      "outputs": [
        {
          "output_type": "stream",
          "text": [
            "Epoch 1/15\n",
            "20/20 [==============================] - 0s 6ms/step - loss: -1.4557 - accuracy: 0.7047 - val_loss: -1.6163 - val_accuracy: 0.6750\n",
            "Epoch 2/15\n",
            "20/20 [==============================] - 0s 4ms/step - loss: -1.4950 - accuracy: 0.7047 - val_loss: -1.6624 - val_accuracy: 0.6750\n",
            "Epoch 3/15\n",
            "20/20 [==============================] - 0s 5ms/step - loss: -1.5351 - accuracy: 0.7047 - val_loss: -1.7055 - val_accuracy: 0.6750\n",
            "Epoch 4/15\n",
            "20/20 [==============================] - 0s 4ms/step - loss: -1.5736 - accuracy: 0.7047 - val_loss: -1.7479 - val_accuracy: 0.6750\n",
            "Epoch 5/15\n",
            "20/20 [==============================] - 0s 3ms/step - loss: -1.6112 - accuracy: 0.7047 - val_loss: -1.7903 - val_accuracy: 0.6750\n",
            "Epoch 6/15\n",
            "20/20 [==============================] - 0s 4ms/step - loss: -1.6491 - accuracy: 0.7047 - val_loss: -1.8311 - val_accuracy: 0.6750\n",
            "Epoch 7/15\n",
            "20/20 [==============================] - 0s 4ms/step - loss: -1.6856 - accuracy: 0.7047 - val_loss: -1.8726 - val_accuracy: 0.6750\n",
            "Epoch 8/15\n",
            "20/20 [==============================] - 0s 4ms/step - loss: -1.7223 - accuracy: 0.7047 - val_loss: -1.9137 - val_accuracy: 0.6750\n",
            "Epoch 9/15\n",
            "20/20 [==============================] - 0s 4ms/step - loss: -1.7590 - accuracy: 0.7047 - val_loss: -1.9537 - val_accuracy: 0.6750\n",
            "Epoch 10/15\n",
            "20/20 [==============================] - 0s 4ms/step - loss: -1.7949 - accuracy: 0.7047 - val_loss: -1.9939 - val_accuracy: 0.6750\n",
            "Epoch 11/15\n",
            "20/20 [==============================] - 0s 4ms/step - loss: -1.8314 - accuracy: 0.7047 - val_loss: -2.0327 - val_accuracy: 0.6750\n",
            "Epoch 12/15\n",
            "20/20 [==============================] - 0s 4ms/step - loss: -1.8667 - accuracy: 0.7047 - val_loss: -2.0723 - val_accuracy: 0.6750\n",
            "Epoch 13/15\n",
            "20/20 [==============================] - 0s 4ms/step - loss: -1.9023 - accuracy: 0.7047 - val_loss: -2.1118 - val_accuracy: 0.6750\n",
            "Epoch 14/15\n",
            "20/20 [==============================] - 0s 4ms/step - loss: -1.9383 - accuracy: 0.7047 - val_loss: -2.1500 - val_accuracy: 0.6750\n",
            "Epoch 15/15\n",
            "20/20 [==============================] - 0s 4ms/step - loss: -1.9730 - accuracy: 0.7047 - val_loss: -2.1893 - val_accuracy: 0.6750\n"
          ],
          "name": "stdout"
        }
      ]
    },
    {
      "cell_type": "code",
      "metadata": {
        "colab": {
          "base_uri": "https://localhost:8080/",
          "height": 627
        },
        "id": "lLZfIcJf1OSE",
        "outputId": "beef02fb-3044-4b44-c84a-019ff10b8cb7"
      },
      "source": [
        "plt.plot(trained.history['accuracy'])\n",
        "plt.plot(trained.history['val_accuracy'])\n",
        "plt.title('Model accuracy')\n",
        "plt.ylabel('Accuracy')\n",
        "plt.xlabel('Epoch')\n",
        "plt.legend(['Train', 'Test'], loc='upper left')\n",
        "plt.show()\n",
        "\n",
        "plt.plot(trained.history['loss'])\n",
        "plt.plot(trained.history['val_loss'])\n",
        "plt.title('Model loss')\n",
        "plt.ylabel('Loss')\n",
        "plt.xlabel('Epoch')\n",
        "plt.legend(['Train', 'Test'], loc='upper left')\n",
        "plt.show()"
      ],
      "execution_count": 83,
      "outputs": [
        {
          "output_type": "display_data",
          "data": {
            "image/png": "[encoded data removed]",
            "text/plain": [
              "<Figure size 432x288 with 1 Axes>"
            ]
          },
          "metadata": {
            "tags": [],
            "needs_background": "light"
          }
        },
        {
          "output_type": "display_data",
          "data": {
            "image/png": "[encoded data removed]",
            "text/plain": [
              "<Figure size 432x288 with 1 Axes>"
            ]
          },
          "metadata": {
            "tags": [],
            "needs_background": "light"
          }
        }
      ]
    },
    {
      "cell_type": "code",
      "metadata": {
        "id": "aUmJOaNK2qBd"
      },
      "source": [
        "import pickle \n",
        "pickle_out=open(\"best_model.pkl\",\"wb\")\n",
        "pickle.dump(best_model,pickle_out)\n",
        "pickle_out.close()\n"
      ],
      "execution_count": null,
      "outputs": []
    },
    {
      "cell_type": "code",
      "metadata": {
        "id": "Co_zv-ZRI5Pu"
      },
      "source": [
        ""
      ],
      "execution_count": null,
      "outputs": []
    }
  ]
}