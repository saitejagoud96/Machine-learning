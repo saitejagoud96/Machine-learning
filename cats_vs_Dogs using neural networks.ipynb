{
  "nbformat": 4,
  "nbformat_minor": 0,
  "metadata": {
    "colab": {
      "name": "cats_vs_Dogs.ipynb",
      "provenance": [],
      "collapsed_sections": [],
      "authorship_tag": "ABX9TyOqRLOsH3vv3E4H2wavdoZE",
      "include_colab_link": true
    },
    "kernelspec": {
      "name": "python3",
      "display_name": "Python 3"
    },
    "accelerator": "GPU"
  },
  "cells": [
    {
      "cell_type": "markdown",
      "metadata": {
        "id": "view-in-github",
        "colab_type": "text"
      },
      "source": [
        "<a href=\"https://colab.research.google.com/github/saitejagoud96/Machine-learning/blob/master/cats_vs_Dogs%20using%20neural%20networks.ipynb\" target=\"_parent\"><img src=\"https://colab.research.google.com/assets/colab-badge.svg\" alt=\"Open In Colab\"/></a>"
      ]
    },
    {
      "cell_type": "code",
      "metadata": {
        "id": "F88KeIXCDufC",
        "colab_type": "code",
        "colab": {}
      },
      "source": [
        "!wget --no-check-certificate \\\n",
        "  https://storage.googleapis.com/mledu-datasets/cats_and_dogs_filtered.zip \\\n",
        "  -O /tmp/cats_and_dogs_filtered.zip"
      ],
      "execution_count": 0,
      "outputs": []
    },
    {
      "cell_type": "code",
      "metadata": {
        "id": "4a0DIu4gE4te",
        "colab_type": "code",
        "colab": {}
      },
      "source": [
        "import zipfile\n",
        "import os"
      ],
      "execution_count": 0,
      "outputs": []
    },
    {
      "cell_type": "code",
      "metadata": {
        "id": "ukmPoAAoE80Z",
        "colab_type": "code",
        "colab": {}
      },
      "source": [
        "path='/tmp/cats_and_dogs_filtered.zip'\n",
        "zip_ref=zipfile.ZipFile(path,'r')\n",
        "zip_ref.extractall('/tmp')\n",
        "zip_ref.close()"
      ],
      "execution_count": 0,
      "outputs": []
    },
    {
      "cell_type": "code",
      "metadata": {
        "id": "UbvsP_yyFRjs",
        "colab_type": "code",
        "colab": {}
      },
      "source": [
        "base_dir='/tmp/cats_and_dogs_filtered'\n",
        "train_dir=os.path.join(base_dir,'train')\n",
        "validation_dir=os.path.join(base_dir,'validation')\n",
        "train_cats_dir=os.path.join(train_dir,'cats')\n",
        "train_dogs_dir=os.path.join(train_dir,'dogs')\n",
        "validation_cats_dir=os.path.join(validation_dir,'cats')\n",
        "validation_dogs_dir=os.path.join(validation_dir,'dogs')"
      ],
      "execution_count": 0,
      "outputs": []
    },
    {
      "cell_type": "code",
      "metadata": {
        "id": "k-BVfdGyGDjv",
        "colab_type": "code",
        "outputId": "5885d20d-1c12-4af2-9b50-21b894c3cae6",
        "colab": {
          "base_uri": "https://localhost:8080/",
          "height": 84
        }
      },
      "source": [
        "print(len(os.listdir(train_cats_dir)))\n",
        "print(len(os.listdir(train_dogs_dir)))\n",
        "print(len(os.listdir(validation_cats_dir)))\n",
        "print(len(os.listdir(validation_dogs_dir)))"
      ],
      "execution_count": 0,
      "outputs": [
        {
          "output_type": "stream",
          "text": [
            "1000\n",
            "1000\n",
            "500\n",
            "500\n"
          ],
          "name": "stdout"
        }
      ]
    },
    {
      "cell_type": "markdown",
      "metadata": {
        "id": "XRcCi1c1Hk0d",
        "colab_type": "text"
      },
      "source": [
        "Clearly we can see the data is limited to 2000 training and 1000 validation examples. "
      ]
    },
    {
      "cell_type": "code",
      "metadata": {
        "id": "9xwQQEinGUc0",
        "colab_type": "code",
        "colab": {}
      },
      "source": [
        "from tensorflow.keras.models import Sequential\n",
        "from tensorflow.keras.layers import Conv2D,MaxPooling2D,Dense,Dropout,Flatten\n",
        "from tensorflow.keras.preprocessing.image import ImageDataGenerator"
      ],
      "execution_count": 0,
      "outputs": []
    },
    {
      "cell_type": "markdown",
      "metadata": {
        "id": "fpALdjUJHyGS",
        "colab_type": "text"
      },
      "source": [
        "Building a model from scratch."
      ]
    },
    {
      "cell_type": "code",
      "metadata": {
        "id": "hCu-Lwv6Jt-F",
        "colab_type": "code",
        "outputId": "a926b9ed-0c9a-402b-f3c2-645a040a0bb4",
        "colab": {
          "base_uri": "https://localhost:8080/",
          "height": 588
        }
      },
      "source": [
        "model=Sequential()\n",
        "model.add(Conv2D(32,kernel_size=(3,3),activation='relu',input_shape=(150,150,3)))\n",
        "model.add(MaxPooling2D(2,2))\n",
        "model.add(Conv2D(64,kernel_size=(3,3),activation='relu'))\n",
        "model.add(MaxPooling2D(2,2))\n",
        "model.add(Conv2D(128,kernel_size=(3,3),activation='relu'))\n",
        "model.add(MaxPooling2D(2,2))\n",
        "model.add(Conv2D(128,kernel_size=(3,3),activation='relu'))\n",
        "model.add(MaxPooling2D(2,2))\n",
        "model.add(Conv2D(128,kernel_size=(3,3),activation='relu'))\n",
        "model.add(Flatten())\n",
        "model.add(Dense(512,activation='relu'))\n",
        "model.add(Dropout(0.2))\n",
        "model.add(Dense(1,activation='sigmoid'))\n",
        "model.summary()"
      ],
      "execution_count": 0,
      "outputs": [
        {
          "output_type": "stream",
          "text": [
            "Model: \"sequential\"\n",
            "_________________________________________________________________\n",
            "Layer (type)                 Output Shape              Param #   \n",
            "=================================================================\n",
            "conv2d (Conv2D)              (None, 148, 148, 32)      896       \n",
            "_________________________________________________________________\n",
            "max_pooling2d (MaxPooling2D) (None, 74, 74, 32)        0         \n",
            "_________________________________________________________________\n",
            "conv2d_1 (Conv2D)            (None, 72, 72, 64)        18496     \n",
            "_________________________________________________________________\n",
            "max_pooling2d_1 (MaxPooling2 (None, 36, 36, 64)        0         \n",
            "_________________________________________________________________\n",
            "conv2d_2 (Conv2D)            (None, 34, 34, 128)       73856     \n",
            "_________________________________________________________________\n",
            "max_pooling2d_2 (MaxPooling2 (None, 17, 17, 128)       0         \n",
            "_________________________________________________________________\n",
            "conv2d_3 (Conv2D)            (None, 15, 15, 128)       147584    \n",
            "_________________________________________________________________\n",
            "max_pooling2d_3 (MaxPooling2 (None, 7, 7, 128)         0         \n",
            "_________________________________________________________________\n",
            "conv2d_4 (Conv2D)            (None, 5, 5, 128)         147584    \n",
            "_________________________________________________________________\n",
            "flatten (Flatten)            (None, 3200)              0         \n",
            "_________________________________________________________________\n",
            "dense (Dense)                (None, 512)               1638912   \n",
            "_________________________________________________________________\n",
            "dropout (Dropout)            (None, 512)               0         \n",
            "_________________________________________________________________\n",
            "dense_1 (Dense)              (None, 1)                 513       \n",
            "=================================================================\n",
            "Total params: 2,027,841\n",
            "Trainable params: 2,027,841\n",
            "Non-trainable params: 0\n",
            "_________________________________________________________________\n"
          ],
          "name": "stdout"
        }
      ]
    },
    {
      "cell_type": "code",
      "metadata": {
        "id": "-3mExg8tKb06",
        "colab_type": "code",
        "colab": {}
      },
      "source": [
        "model.compile(loss='binary_crossentropy',optimizer='rmsprop',metrics=['accuracy'])"
      ],
      "execution_count": 0,
      "outputs": []
    },
    {
      "cell_type": "code",
      "metadata": {
        "id": "g3D5XR4JKl8B",
        "colab_type": "code",
        "outputId": "7d769e59-6e50-480e-f13a-c5c4ac4f84ca",
        "colab": {
          "base_uri": "https://localhost:8080/",
          "height": 50
        }
      },
      "source": [
        "train_datagen=ImageDataGenerator(rescale=1.0/255,horizontal_flip=True,width_shift_range=0.1,\n",
        "                                 rotation_range=20,height_shift_range=0.1,\n",
        "                                 shear_range=0.2,zoom_range=0.2,fill_mode='nearest')\n",
        "train_generator=train_datagen.flow_from_directory(train_dir,target_size=(150,150),\n",
        "                                                  class_mode='binary',batch_size=20)\n",
        "validation_datagen=ImageDataGenerator(rescale=1.0/255)\n",
        "validation_generator=validation_datagen.flow_from_directory(validation_dir,target_size=(150,150),\n",
        "                                                            class_mode='binary',batch_size=20)"
      ],
      "execution_count": 0,
      "outputs": [
        {
          "output_type": "stream",
          "text": [
            "Found 2000 images belonging to 2 classes.\n",
            "Found 1000 images belonging to 2 classes.\n"
          ],
          "name": "stdout"
        }
      ]
    },
    {
      "cell_type": "code",
      "metadata": {
        "id": "wYOVCBVyLkcq",
        "colab_type": "code",
        "outputId": "0bab7357-e70a-4e43-abea-e67caf60024e",
        "colab": {
          "base_uri": "https://localhost:8080/",
          "height": 689
        }
      },
      "source": [
        "history=model.fit(train_generator,steps_per_epoch=100,epochs=20,\n",
        "                            validation_data=validation_generator,\n",
        "                            validation_steps=50,verbose=1)"
      ],
      "execution_count": 0,
      "outputs": [
        {
          "output_type": "stream",
          "text": [
            "Epoch 1/20\n",
            "100/100 [==============================] - 17s 166ms/step - loss: 0.7286 - accuracy: 0.4975 - val_loss: 0.6871 - val_accuracy: 0.6010\n",
            "Epoch 2/20\n",
            "100/100 [==============================] - 16s 164ms/step - loss: 0.7249 - accuracy: 0.5455 - val_loss: 0.6648 - val_accuracy: 0.6190\n",
            "Epoch 3/20\n",
            "100/100 [==============================] - 17s 165ms/step - loss: 0.6688 - accuracy: 0.5995 - val_loss: 0.6510 - val_accuracy: 0.5840\n",
            "Epoch 4/20\n",
            "100/100 [==============================] - 16s 165ms/step - loss: 0.6778 - accuracy: 0.6165 - val_loss: 0.6060 - val_accuracy: 0.6750\n",
            "Epoch 5/20\n",
            "100/100 [==============================] - 16s 165ms/step - loss: 0.6435 - accuracy: 0.6465 - val_loss: 0.5898 - val_accuracy: 0.6560\n",
            "Epoch 6/20\n",
            "100/100 [==============================] - 16s 164ms/step - loss: 0.6391 - accuracy: 0.6565 - val_loss: 0.5898 - val_accuracy: 0.6960\n",
            "Epoch 7/20\n",
            "100/100 [==============================] - 16s 164ms/step - loss: 0.6100 - accuracy: 0.6555 - val_loss: 1.4712 - val_accuracy: 0.5760\n",
            "Epoch 8/20\n",
            "100/100 [==============================] - 17s 166ms/step - loss: 0.6198 - accuracy: 0.6875 - val_loss: 0.5368 - val_accuracy: 0.7440\n",
            "Epoch 9/20\n",
            "100/100 [==============================] - 16s 164ms/step - loss: 0.5817 - accuracy: 0.6940 - val_loss: 0.5597 - val_accuracy: 0.7300\n",
            "Epoch 10/20\n",
            "100/100 [==============================] - 17s 165ms/step - loss: 0.5715 - accuracy: 0.7050 - val_loss: 0.5552 - val_accuracy: 0.7250\n",
            "Epoch 11/20\n",
            "100/100 [==============================] - 16s 163ms/step - loss: 0.5578 - accuracy: 0.7185 - val_loss: 0.5240 - val_accuracy: 0.7470\n",
            "Epoch 12/20\n",
            "100/100 [==============================] - 17s 166ms/step - loss: 0.5761 - accuracy: 0.7095 - val_loss: 0.5441 - val_accuracy: 0.7470\n",
            "Epoch 13/20\n",
            "100/100 [==============================] - 17s 165ms/step - loss: 0.5690 - accuracy: 0.7280 - val_loss: 0.6129 - val_accuracy: 0.7170\n",
            "Epoch 14/20\n",
            "100/100 [==============================] - 16s 165ms/step - loss: 0.5374 - accuracy: 0.7365 - val_loss: 0.4897 - val_accuracy: 0.7790\n",
            "Epoch 15/20\n",
            "100/100 [==============================] - 16s 164ms/step - loss: 0.5257 - accuracy: 0.7490 - val_loss: 0.5531 - val_accuracy: 0.7480\n",
            "Epoch 16/20\n",
            "100/100 [==============================] - 17s 168ms/step - loss: 0.4942 - accuracy: 0.7720 - val_loss: 0.5852 - val_accuracy: 0.7240\n",
            "Epoch 17/20\n",
            "100/100 [==============================] - 17s 167ms/step - loss: 0.5233 - accuracy: 0.7500 - val_loss: 0.5398 - val_accuracy: 0.7400\n",
            "Epoch 18/20\n",
            "100/100 [==============================] - 17s 166ms/step - loss: 0.5047 - accuracy: 0.7600 - val_loss: 0.5130 - val_accuracy: 0.7450\n",
            "Epoch 19/20\n",
            "100/100 [==============================] - 16s 165ms/step - loss: 0.4890 - accuracy: 0.7635 - val_loss: 0.6372 - val_accuracy: 0.7070\n",
            "Epoch 20/20\n",
            "100/100 [==============================] - 16s 164ms/step - loss: 0.4670 - accuracy: 0.7760 - val_loss: 0.8072 - val_accuracy: 0.6830\n"
          ],
          "name": "stdout"
        }
      ]
    },
    {
      "cell_type": "code",
      "metadata": {
        "id": "LXhreie_MAms",
        "colab_type": "code",
        "outputId": "0f3436dd-f693-4fe7-c976-f3355b62ec51",
        "colab": {
          "base_uri": "https://localhost:8080/",
          "height": 545
        }
      },
      "source": [
        "import matplotlib.pyplot as plt\n",
        "acc=history.history['accuracy']\n",
        "loss=history.history['loss']\n",
        "val_acc=history.history['val_accuracy']\n",
        "val_loss=history.history['val_loss']\n",
        "epochs=range(len(acc))\n",
        "plt.plot(epochs,acc,'r',label='Training')\n",
        "plt.plot(epochs,val_acc,'b',label='validation')\n",
        "plt.title(\"Training and validation accuracy\")\n",
        "plt.figure()\n",
        "\n",
        "plt.plot(epochs,loss,'r')\n",
        "plt.plot(epochs,val_loss,'b')\n",
        "plt.title(\"training and validation loss\")\n",
        "#plt.figure()\n",
        "plt.show()\n"
      ],
      "execution_count": 0,
      "outputs": [
        {
          "output_type": "display_data",
          "data": {
            "image/png": "[encoded data removed]",
            "text/plain": [
              "<Figure size 432x288 with 1 Axes>"
            ]
          },
          "metadata": {
            "tags": [],
            "needs_background": "light"
          }
        },
        {
          "output_type": "display_data",
          "data": {
            "image/png": "[encoded data removed]",
            "text/plain": [
              "<Figure size 432x288 with 1 Axes>"
            ]
          },
          "metadata": {
            "tags": [],
            "needs_background": "light"
          }
        }
      ]
    },
    {
      "cell_type": "markdown",
      "metadata": {
        "id": "V0ptrSldICCU",
        "colab_type": "text"
      },
      "source": [
        "We can see the validation accuracy is close to 75% and training accuracy is close to 80% so we can conlcude that the model is not over fitting the data."
      ]
    },
    {
      "cell_type": "markdown",
      "metadata": {
        "id": "RDThNqwiKCIX",
        "colab_type": "text"
      },
      "source": [
        "Now building the model using trasnfer learning and fine tuning. Here we are using vgg16 model for transfer learning. VGG16 consists of several layers and for our prupose we are using half of the layers because the dataset is very small and it may lead to overfitting."
      ]
    },
    {
      "cell_type": "code",
      "metadata": {
        "id": "mN4FPBZ3OKlV",
        "colab_type": "code",
        "outputId": "966c492e-485e-4abc-d46f-cf10457c3ec1",
        "colab": {
          "base_uri": "https://localhost:8080/",
          "height": 521
        }
      },
      "source": [
        "from tensorflow.keras.applications import VGG16\n",
        "from tensorflow.keras import Model\n",
        "from tensorflow.keras.layers import GlobalMaxPooling2D\n",
        "pretrained_model=VGG16(include_top=False,weights='imagenet',input_shape=(220,220,3))\n",
        "for layer in pretrained_model.layers[:15]:\n",
        "  layer.traianable=False\n",
        "for layer in pretrained_model.layers[15:]:\n",
        "  layer.trainable=True\n",
        "last_layer=pretrained_model.get_layer('block2_pool')\n",
        "last_output=last_layer.output\n",
        "x=GlobalMaxPooling2D()(last_output)\n",
        "x=Dense(512,activation='relu')(x)\n",
        "x=Dropout(0.5)(x)\n",
        "x=Dense(1,activation='sigmoid')(x)\n",
        "model_1=Model(pretrained_model.input,x)\n",
        "model_1.compile(loss='binary_crossentropy',optimizer='rmsprop',metrics=['accuracy'])\n",
        "model_1.summary()"
      ],
      "execution_count": 0,
      "outputs": [
        {
          "output_type": "stream",
          "text": [
            "Model: \"model_1\"\n",
            "_________________________________________________________________\n",
            "Layer (type)                 Output Shape              Param #   \n",
            "=================================================================\n",
            "input_2 (InputLayer)         [(None, 220, 220, 3)]     0         \n",
            "_________________________________________________________________\n",
            "block1_conv1 (Conv2D)        (None, 220, 220, 64)      1792      \n",
            "_________________________________________________________________\n",
            "block1_conv2 (Conv2D)        (None, 220, 220, 64)      36928     \n",
            "_________________________________________________________________\n",
            "block1_pool (MaxPooling2D)   (None, 110, 110, 64)      0         \n",
            "_________________________________________________________________\n",
            "block2_conv1 (Conv2D)        (None, 110, 110, 128)     73856     \n",
            "_________________________________________________________________\n",
            "block2_conv2 (Conv2D)        (None, 110, 110, 128)     147584    \n",
            "_________________________________________________________________\n",
            "block2_pool (MaxPooling2D)   (None, 55, 55, 128)       0         \n",
            "_________________________________________________________________\n",
            "global_max_pooling2d_1 (Glob (None, 128)               0         \n",
            "_________________________________________________________________\n",
            "dense_4 (Dense)              (None, 512)               66048     \n",
            "_________________________________________________________________\n",
            "dropout_2 (Dropout)          (None, 512)               0         \n",
            "_________________________________________________________________\n",
            "dense_5 (Dense)              (None, 1)                 513       \n",
            "=================================================================\n",
            "Total params: 326,721\n",
            "Trainable params: 326,721\n",
            "Non-trainable params: 0\n",
            "_________________________________________________________________\n"
          ],
          "name": "stdout"
        }
      ]
    },
    {
      "cell_type": "code",
      "metadata": {
        "id": "yQfNb4ySmVTi",
        "colab_type": "code",
        "outputId": "5a4bbfc6-54f3-4296-98bc-a2ca3a47b27f",
        "colab": {
          "base_uri": "https://localhost:8080/",
          "height": 521
        }
      },
      "source": [
        "history_1=model_1.fit(train_generator,steps_per_epoch=100,epochs=15,\n",
        "                            validation_data=validation_generator,\n",
        "                      validation_steps=50,verbose=1)"
      ],
      "execution_count": 0,
      "outputs": [
        {
          "output_type": "stream",
          "text": [
            "Epoch 1/15\n",
            "100/100 [==============================] - 18s 183ms/step - loss: 1.5718 - accuracy: 0.5145 - val_loss: 0.6857 - val_accuracy: 0.5130\n",
            "Epoch 2/15\n",
            "100/100 [==============================] - 18s 181ms/step - loss: 0.6852 - accuracy: 0.5530 - val_loss: 0.6675 - val_accuracy: 0.5770\n",
            "Epoch 3/15\n",
            "100/100 [==============================] - 18s 181ms/step - loss: 0.6843 - accuracy: 0.5365 - val_loss: 0.6709 - val_accuracy: 0.5620\n",
            "Epoch 4/15\n",
            "100/100 [==============================] - 18s 182ms/step - loss: 0.6712 - accuracy: 0.5710 - val_loss: 0.6669 - val_accuracy: 0.5750\n",
            "Epoch 5/15\n",
            "100/100 [==============================] - 18s 181ms/step - loss: 0.6560 - accuracy: 0.6145 - val_loss: 0.6540 - val_accuracy: 0.6000\n",
            "Epoch 6/15\n",
            "100/100 [==============================] - 18s 180ms/step - loss: 0.6686 - accuracy: 0.6135 - val_loss: 0.6341 - val_accuracy: 0.6400\n",
            "Epoch 7/15\n",
            "100/100 [==============================] - 18s 181ms/step - loss: 0.6427 - accuracy: 0.6410 - val_loss: 0.6244 - val_accuracy: 0.6470\n",
            "Epoch 8/15\n",
            "100/100 [==============================] - 18s 180ms/step - loss: 0.6345 - accuracy: 0.6315 - val_loss: 0.6157 - val_accuracy: 0.6600\n",
            "Epoch 9/15\n",
            "100/100 [==============================] - 18s 181ms/step - loss: 0.6206 - accuracy: 0.6580 - val_loss: 0.6009 - val_accuracy: 0.6590\n",
            "Epoch 10/15\n",
            "100/100 [==============================] - 18s 181ms/step - loss: 0.6195 - accuracy: 0.6570 - val_loss: 0.6121 - val_accuracy: 0.6500\n",
            "Epoch 11/15\n",
            "100/100 [==============================] - 18s 180ms/step - loss: 0.6202 - accuracy: 0.6710 - val_loss: 0.6111 - val_accuracy: 0.6580\n",
            "Epoch 12/15\n",
            "100/100 [==============================] - 18s 179ms/step - loss: 0.6099 - accuracy: 0.6545 - val_loss: 0.5923 - val_accuracy: 0.6870\n",
            "Epoch 13/15\n",
            "100/100 [==============================] - 18s 181ms/step - loss: 0.5923 - accuracy: 0.6835 - val_loss: 0.6475 - val_accuracy: 0.6520\n",
            "Epoch 14/15\n",
            "100/100 [==============================] - 18s 182ms/step - loss: 0.5885 - accuracy: 0.6835 - val_loss: 0.5562 - val_accuracy: 0.6980\n",
            "Epoch 15/15\n",
            "100/100 [==============================] - 18s 180ms/step - loss: 0.5874 - accuracy: 0.6975 - val_loss: 0.6282 - val_accuracy: 0.6470\n"
          ],
          "name": "stdout"
        }
      ]
    },
    {
      "cell_type": "code",
      "metadata": {
        "id": "aZc1MJZtBrpZ",
        "colab_type": "code",
        "outputId": "5c1d43c0-8340-4c42-ed52-ce9b38c473b6",
        "colab": {
          "base_uri": "https://localhost:8080/",
          "height": 562
        }
      },
      "source": [
        "acc_1=history_1.history['accuracy']\n",
        "val_acc_1=history_1.history['val_accuracy']\n",
        "loss_1=history_1.history['loss']\n",
        "val_loss_1=history_1.history['val_loss']\n",
        "epochs_1=range(len(acc_1))\n",
        "plt.plot(epochs_1,acc_1,'r')\n",
        "plt.plot(epochs_1,val_acc_1,'b')\n",
        "plt.title(\"training and validation accuracy\")\n",
        "plt.figure()\n",
        "plt.plot(epochs_1,loss_1,'r')\n",
        "plt.plot(epochs_1,val_loss_1,'b')\n",
        "plt.title(\"training and validation loss\")\n",
        "plt.figure()\n",
        "plt.show()"
      ],
      "execution_count": 0,
      "outputs": [
        {
          "output_type": "display_data",
          "data": {
            "image/png": "[encoded data removed]",
            "text/plain": [
              "<Figure size 432x288 with 1 Axes>"
            ]
          },
          "metadata": {
            "tags": [],
            "needs_background": "light"
          }
        },
        {
          "output_type": "display_data",
          "data": {
            "image/png": "[encoded data removed]",
            "text/plain": [
              "<Figure size 432x288 with 1 Axes>"
            ]
          },
          "metadata": {
            "tags": [],
            "needs_background": "light"
          }
        },
        {
          "output_type": "display_data",
          "data": {
            "text/plain": [
              "<Figure size 432x288 with 0 Axes>"
            ]
          },
          "metadata": {
            "tags": []
          }
        }
      ]
    },
    {
      "cell_type": "markdown",
      "metadata": {
        "id": "JY5WqdkJGPgk",
        "colab_type": "text"
      },
      "source": [
        "Here we tried to implement fine tuning with VGG16 though we can see the accuracy is not upto the mark of the neural network from initial model. SO we can conclude that the model depth never gives the desired accuracy untill we have huge training set. Here we applied dropout and image augmentation since the accuracy is only 75% for the initial model and 70 from the transfer learning model we can increase the model accuracy further by loading more data into the training and then predicting the results."
      ]
    },
    {
      "cell_type": "code",
      "metadata": {
        "id": "RAVOrEI_Dv2H",
        "colab_type": "code",
        "outputId": "907328f6-503e-47ce-999e-9248c8d9d366",
        "colab": {
          "resources": {
            "http://localhost:8080/nbextensions/google.colab/files.js": {
              "data": "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",
              "ok": true,
              "headers": [
                [
                  "content-type",
                  "application/javascript"
                ]
              ],
              "status": 200,
              "status_text": ""
            }
          },
          "base_uri": "https://localhost:8080/",
          "height": 238
        }
      },
      "source": [
        "import numpy as np\n",
        "from keras.preprocessing import image\n",
        "from google.colab import files\n",
        "uploaded=files.upload()\n",
        "for file in uploaded:\n",
        "  path='/content/'+file\n",
        "  img=image.load_img(path,target_size=(150,150))\n",
        "  x=image.img_to_array(img)\n",
        "  x=np.expand_dims(x,axis=0)\n",
        "  images=np.vstack([x])\n",
        "  classes=model.predict(images,batch_size=10)\n",
        "  if classes[0]>0:\n",
        "    print(file+\"is a dog\")\n",
        "  else:\n",
        "    print(file+\"is a cat\")\n"
      ],
      "execution_count": 0,
      "outputs": [
        {
          "output_type": "display_data",
          "data": {
            "text/html": [
              "\n",
              "     <input type=\"file\" id=\"files-88e1e3c2-ba8f-4238-815c-39bdee5fa5a9\" name=\"files[]\" multiple disabled />\n",
              "     <output id=\"result-88e1e3c2-ba8f-4238-815c-39bdee5fa5a9\">\n",
              "      Upload widget is only available when the cell has been executed in the\n",
              "      current browser session. Please rerun this cell to enable.\n",
              "      </output>\n",
              "      <script src=\"/nbextensions/google.colab/files.js\"></script> "
            ],
            "text/plain": [
              "<IPython.core.display.HTML object>"
            ]
          },
          "metadata": {
            "tags": []
          }
        },
        {
          "output_type": "stream",
          "text": [
            "Saving cats-photo-320014.jpeg to cats-photo-320014 (7).jpeg\n",
            "Saving cats-photo-1741205.jpeg to cats-photo-1741205 (7).jpeg\n",
            "Saving dogs-photo-257540.jpeg to dogs-photo-257540 (7).jpeg\n",
            "Saving dogs-photo-434090.jpeg to dogs-photo-434090 (7).jpeg\n",
            "cats-photo-320014.jpegis a dog\n",
            "cats-photo-1741205.jpegis a dog\n",
            "dogs-photo-257540.jpegis a dog\n",
            "dogs-photo-434090.jpegis a dog\n"
          ],
          "name": "stdout"
        }
      ]
    },
    {
      "cell_type": "markdown",
      "metadata": {
        "id": "vGliZ2HdHCqy",
        "colab_type": "text"
      },
      "source": [
        "Here the model predicts everything as dog. The major drawback is the training data since our training is limited to 2000 images our model fails to capture the pattern like cats and dogs with different colours and whether they turned around and some dogs are similar to cats to differentiate them our model needs to see the patterns which can be obtained by using more data for training the model."
      ]
    }
  ]
}